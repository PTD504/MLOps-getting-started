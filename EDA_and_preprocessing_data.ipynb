{
 "cells": [
  {
   "cell_type": "markdown",
   "id": "7c1ba830",
   "metadata": {
    "papermill": {
     "duration": 0.010297,
     "end_time": "2025-04-13T12:51:00.690373",
     "exception": false,
     "start_time": "2025-04-13T12:51:00.680076",
     "status": "completed"
    },
    "tags": []
   },
   "source": [
    "## <div style=\"font-family: san-serif, ariel; font-size: 25px; background-color: aliceblue; text-align: center;\"> Importing Libraries</div>"
   ]
  },
  {
   "cell_type": "code",
   "execution_count": 1,
   "id": "cb5f4b92",
   "metadata": {
    "_cell_guid": "b1076dfc-b9ad-4769-8c92-a6c4dae69d19",
    "_uuid": "8f2839f25d086af736a60e9eeb907d3b93b6e0e5",
    "execution": {
     "iopub.execute_input": "2025-04-13T12:51:00.710019Z",
     "iopub.status.busy": "2025-04-13T12:51:00.709723Z",
     "iopub.status.idle": "2025-04-13T12:51:13.378799Z",
     "shell.execute_reply": "2025-04-13T12:51:13.377625Z"
    },
    "papermill": {
     "duration": 12.681008,
     "end_time": "2025-04-13T12:51:13.380476",
     "exception": false,
     "start_time": "2025-04-13T12:51:00.699468",
     "status": "completed"
    },
    "tags": []
   },
   "outputs": [
    {
     "name": "stdout",
     "output_type": "stream",
     "text": [
      "\u001b[2K   \u001b[90m━━━━━━━━━━━━━━━━━━━━━━━━━━━━━━━━━━━━━━━━\u001b[0m \u001b[32m289.9/289.9 kB\u001b[0m \u001b[31m6.7 MB/s\u001b[0m eta \u001b[36m0:00:00\u001b[0m\r\n",
      "\u001b[2K   \u001b[90m━━━━━━━━━━━━━━━━━━━━━━━━━━━━━━━━━━━━━━━━\u001b[0m \u001b[32m118.3/118.3 kB\u001b[0m \u001b[31m5.6 MB/s\u001b[0m eta \u001b[36m0:00:00\u001b[0m\r\n",
      "\u001b[?25h"
     ]
    }
   ],
   "source": [
    "!pip install -q contractions\n",
    "!pip install -q tensorflow\n",
    "!pip install -q nltk"
   ]
  },
  {
   "cell_type": "code",
   "execution_count": 2,
   "id": "32b81be9",
   "metadata": {
    "execution": {
     "iopub.execute_input": "2025-04-13T12:51:13.402002Z",
     "iopub.status.busy": "2025-04-13T12:51:13.401531Z",
     "iopub.status.idle": "2025-04-13T12:51:16.038809Z",
     "shell.execute_reply": "2025-04-13T12:51:16.037754Z"
    },
    "papermill": {
     "duration": 2.650699,
     "end_time": "2025-04-13T12:51:16.040558",
     "exception": false,
     "start_time": "2025-04-13T12:51:13.389859",
     "status": "completed"
    },
    "tags": []
   },
   "outputs": [
    {
     "name": "stderr",
     "output_type": "stream",
     "text": [
      "[nltk_data] Downloading package wordnet to /usr/share/nltk_data...\n",
      "[nltk_data]   Package wordnet is already up-to-date!\n",
      "[nltk_data] Downloading package punkt to /usr/share/nltk_data...\n",
      "[nltk_data]   Package punkt is already up-to-date!\n"
     ]
    },
    {
     "data": {
      "text/plain": [
       "True"
      ]
     },
     "execution_count": 2,
     "metadata": {},
     "output_type": "execute_result"
    }
   ],
   "source": [
    "from textblob import Word\n",
    "import nltk\n",
    "nltk.data.path.append(\"/kaggle/working/\")\n",
    "nltk.download('wordnet')\n",
    "nltk.download('punkt')"
   ]
  },
  {
   "cell_type": "code",
   "execution_count": 3,
   "id": "ab32bd07",
   "metadata": {
    "execution": {
     "iopub.execute_input": "2025-04-13T12:51:16.060965Z",
     "iopub.status.busy": "2025-04-13T12:51:16.060470Z",
     "iopub.status.idle": "2025-04-13T12:51:19.120682Z",
     "shell.execute_reply": "2025-04-13T12:51:19.119759Z"
    },
    "papermill": {
     "duration": 3.072068,
     "end_time": "2025-04-13T12:51:19.122385",
     "exception": false,
     "start_time": "2025-04-13T12:51:16.050317",
     "status": "completed"
    },
    "tags": []
   },
   "outputs": [],
   "source": [
    "# library for data manipulation\n",
    "import numpy as np\n",
    "import pandas as pd\n",
    "import polars as pl\n",
    "\n",
    "# Data visualization\n",
    "import seaborn as sns\n",
    "import matplotlib.pyplot as plt\n",
    "sns.set(style='white', font_scale=1.5)\n",
    "sns.set(rc={'axes.facecolor': '#FFFAF0', 'figure.facecolor': 'FFfAF0'})\n",
    "sns.set_context(\"poster\", font_scale=0.7)"
   ]
  },
  {
   "cell_type": "code",
   "execution_count": 4,
   "id": "e77b3808",
   "metadata": {
    "execution": {
     "iopub.execute_input": "2025-04-13T12:51:19.143849Z",
     "iopub.status.busy": "2025-04-13T12:51:19.143369Z",
     "iopub.status.idle": "2025-04-13T12:52:46.831066Z",
     "shell.execute_reply": "2025-04-13T12:52:46.830230Z"
    },
    "papermill": {
     "duration": 87.700648,
     "end_time": "2025-04-13T12:52:46.832808",
     "exception": false,
     "start_time": "2025-04-13T12:51:19.132160",
     "status": "completed"
    },
    "tags": []
   },
   "outputs": [
    {
     "name": "stderr",
     "output_type": "stream",
     "text": [
      "2025-04-13 12:52:32.701154: E external/local_xla/xla/stream_executor/cuda/cuda_fft.cc:477] Unable to register cuFFT factory: Attempting to register factory for plugin cuFFT when one has already been registered\n",
      "WARNING: All log messages before absl::InitializeLog() is called are written to STDERR\n",
      "E0000 00:00:1744548752.961392      13 cuda_dnn.cc:8310] Unable to register cuDNN factory: Attempting to register factory for plugin cuDNN when one has already been registered\n",
      "E0000 00:00:1744548753.039133      13 cuda_blas.cc:1418] Unable to register cuBLAS factory: Attempting to register factory for plugin cuBLAS when one has already been registered\n"
     ]
    }
   ],
   "source": [
    "# preprocessing\n",
    "import contractions\n",
    "from sklearn.feature_extraction.text import  (\n",
    "    CountVectorizer,\n",
    "    TfidfVectorizer\n",
    ")\n",
    "from sklearn.preprocessing import LabelBinarizer\n",
    "from nltk.corpus import stopwords\n",
    "from nltk.stem.porter import PorterStemmer\n",
    "from wordcloud import WordCloud, STOPWORDS\n",
    "from nltk.stem import WordNetLemmatizer\n",
    "from nltk.tokenize import word_tokenize, sent_tokenize\n",
    "import spacy\n",
    "import math\n",
    "from gensim.models import Word2Vec\n",
    "from textblob import TextBlob\n",
    "from scipy.sparse import lil_matrix\n",
    "from tensorflow.keras.preprocessing.sequence import pad_sequences\n",
    "from nltk import pos_tag\n"
   ]
  },
  {
   "cell_type": "code",
   "execution_count": 5,
   "id": "4fc53947",
   "metadata": {
    "execution": {
     "iopub.execute_input": "2025-04-13T12:52:46.853422Z",
     "iopub.status.busy": "2025-04-13T12:52:46.852741Z",
     "iopub.status.idle": "2025-04-13T12:52:46.867030Z",
     "shell.execute_reply": "2025-04-13T12:52:46.866034Z"
    },
    "papermill": {
     "duration": 0.026065,
     "end_time": "2025-04-13T12:52:46.868663",
     "exception": false,
     "start_time": "2025-04-13T12:52:46.842598",
     "status": "completed"
    },
    "tags": []
   },
   "outputs": [],
   "source": [
    "# model building\n",
    "from tensorflow.keras.regularizers import l2\n",
    "import tensorflow\n",
    "import keras\n",
    "from keras import layers\n",
    "from tensorflow.keras.preprocessing.text import Tokenizer\n",
    "from keras.models import Sequential\n",
    "from keras.layers import (\n",
    "    SimpleRNN, LSTM, GRU, Embedding, \n",
    "    Dense,  SpatialDropout1D, Dropout, BatchNormalization,\n",
    "    Bidirectional, Attention\n",
    ")\n",
    "from sklearn.metrics import accuracy_score\n",
    "from tensorflow.keras.initializers import GlorotUniform\n",
    "from tensorflow.keras.optimizers import Adam\n",
    "\n",
    "import warnings\n",
    "warnings.filterwarnings('ignore')"
   ]
  },
  {
   "cell_type": "markdown",
   "id": "8c58f6bc",
   "metadata": {
    "papermill": {
     "duration": 0.009034,
     "end_time": "2025-04-13T12:52:46.887183",
     "exception": false,
     "start_time": "2025-04-13T12:52:46.878149",
     "status": "completed"
    },
    "tags": []
   },
   "source": [
    "# <div style=\"background-color: aliceblue; text-align: center; font-family: san-serif, arial; border-radius: 25px;\">Loading Dataset<div>"
   ]
  },
  {
   "cell_type": "code",
   "execution_count": 6,
   "id": "902f2310",
   "metadata": {
    "execution": {
     "iopub.execute_input": "2025-04-13T12:52:46.907913Z",
     "iopub.status.busy": "2025-04-13T12:52:46.907592Z",
     "iopub.status.idle": "2025-04-13T12:52:47.965289Z",
     "shell.execute_reply": "2025-04-13T12:52:47.964466Z"
    },
    "papermill": {
     "duration": 1.069677,
     "end_time": "2025-04-13T12:52:47.966781",
     "exception": false,
     "start_time": "2025-04-13T12:52:46.897104",
     "status": "completed"
    },
    "tags": []
   },
   "outputs": [
    {
     "data": {
      "text/html": [
       "<div><style>\n",
       ".dataframe > thead > tr,\n",
       ".dataframe > tbody > tr {\n",
       "  text-align: right;\n",
       "  white-space: pre-wrap;\n",
       "}\n",
       "</style>\n",
       "<small>shape: (50_000, 2)</small><table border=\"1\" class=\"dataframe\"><thead><tr><th>review</th><th>sentiment</th></tr><tr><td>str</td><td>str</td></tr></thead><tbody><tr><td>&quot;One of the other reviewers has…</td><td>&quot;positive&quot;</td></tr><tr><td>&quot;A wonderful little production.…</td><td>&quot;positive&quot;</td></tr><tr><td>&quot;I thought this was a wonderful…</td><td>&quot;positive&quot;</td></tr><tr><td>&quot;Basically there&#x27;s a family whe…</td><td>&quot;negative&quot;</td></tr><tr><td>&quot;Petter Mattei&#x27;s &quot;Love in the T…</td><td>&quot;positive&quot;</td></tr><tr><td>&hellip;</td><td>&hellip;</td></tr><tr><td>&quot;I thought this movie did a dow…</td><td>&quot;positive&quot;</td></tr><tr><td>&quot;Bad plot, bad dialogue, bad ac…</td><td>&quot;negative&quot;</td></tr><tr><td>&quot;I am a Catholic taught in paro…</td><td>&quot;negative&quot;</td></tr><tr><td>&quot;I&#x27;m going to have to disagree …</td><td>&quot;negative&quot;</td></tr><tr><td>&quot;No one expects the Star Trek m…</td><td>&quot;negative&quot;</td></tr></tbody></table></div>"
      ],
      "text/plain": [
       "shape: (50_000, 2)\n",
       "┌─────────────────────────────────┬───────────┐\n",
       "│ review                          ┆ sentiment │\n",
       "│ ---                             ┆ ---       │\n",
       "│ str                             ┆ str       │\n",
       "╞═════════════════════════════════╪═══════════╡\n",
       "│ One of the other reviewers has… ┆ positive  │\n",
       "│ A wonderful little production.… ┆ positive  │\n",
       "│ I thought this was a wonderful… ┆ positive  │\n",
       "│ Basically there's a family whe… ┆ negative  │\n",
       "│ Petter Mattei's \"Love in the T… ┆ positive  │\n",
       "│ …                               ┆ …         │\n",
       "│ I thought this movie did a dow… ┆ positive  │\n",
       "│ Bad plot, bad dialogue, bad ac… ┆ negative  │\n",
       "│ I am a Catholic taught in paro… ┆ negative  │\n",
       "│ I'm going to have to disagree … ┆ negative  │\n",
       "│ No one expects the Star Trek m… ┆ negative  │\n",
       "└─────────────────────────────────┴───────────┘"
      ]
     },
     "execution_count": 6,
     "metadata": {},
     "output_type": "execute_result"
    }
   ],
   "source": [
    "df = pl.read_csv('/kaggle/input/imdb-dataset-of-50k-movie-reviews/IMDB Dataset.csv')\n",
    "df"
   ]
  },
  {
   "cell_type": "markdown",
   "id": "22df2bd0",
   "metadata": {
    "papermill": {
     "duration": 0.009275,
     "end_time": "2025-04-13T12:52:47.985736",
     "exception": false,
     "start_time": "2025-04-13T12:52:47.976461",
     "status": "completed"
    },
    "tags": []
   },
   "source": [
    "# <div style=\"background-color: aliceblue; text-align: center; font-family: san-serif, arial; border-radius: 25px;\">Data Wrangling<div>"
   ]
  },
  {
   "cell_type": "markdown",
   "id": "74033383",
   "metadata": {
    "papermill": {
     "duration": 0.009602,
     "end_time": "2025-04-13T12:52:48.004960",
     "exception": false,
     "start_time": "2025-04-13T12:52:47.995358",
     "status": "completed"
    },
    "tags": []
   },
   "source": [
    " 1. Computing Dimension of Dataset\n",
    " 2. Statistical Summary of Dataset\n",
    " 3. Checking if there's any duplicate records\n",
    " 4. computating no. missing values and the percentage of missing values\n",
    " 5. performing descriptive analysis"
   ]
  },
  {
   "cell_type": "code",
   "execution_count": 7,
   "id": "f8496faa",
   "metadata": {
    "execution": {
     "iopub.execute_input": "2025-04-13T12:52:48.025847Z",
     "iopub.status.busy": "2025-04-13T12:52:48.025450Z",
     "iopub.status.idle": "2025-04-13T12:52:48.183378Z",
     "shell.execute_reply": "2025-04-13T12:52:48.182253Z"
    },
    "papermill": {
     "duration": 0.170152,
     "end_time": "2025-04-13T12:52:48.184975",
     "exception": false,
     "start_time": "2025-04-13T12:52:48.014823",
     "status": "completed"
    },
    "tags": []
   },
   "outputs": [
    {
     "name": "stdout",
     "output_type": "stream",
     "text": [
      "dataset shape = (50000, 2)\n",
      "\n",
      "Overview of dataset: \n",
      " Schema([('review', String), ('sentiment', String)])\n",
      "Null Count: \n",
      "shape: (1, 2)\n",
      "┌────────┬───────────┐\n",
      "│ review ┆ sentiment │\n",
      "│ ---    ┆ ---       │\n",
      "│ u32    ┆ u32       │\n",
      "╞════════╪═══════════╡\n",
      "│ 0      ┆ 0         │\n",
      "└────────┴───────────┘\n",
      "\n",
      "Checking duplicated records: 824\n",
      "Peform Drop Duplicates: \n",
      "\n",
      "After gdropping duplicates: (49582, 2)\n",
      "Finished Dropping Duplicates\n"
     ]
    }
   ],
   "source": [
    "# step 1\n",
    "print(f\"dataset shape = {df.shape}\\n\")\n",
    "# step 2\n",
    "print(f\"Overview of dataset: \\n {df.schema}\\nNull Count: \\n{df.null_count()}\\n\")\n",
    "# step 3\n",
    "print(f\"Checking duplicated records: {df.is_duplicated().sum()}\")\n",
    "print(f\"Peform Drop Duplicates: \\n\")\n",
    "df = df.unique()\n",
    "print(f\"After gdropping duplicates: {df.shape}\")\n",
    "print(f\"Finished Dropping Duplicates\")"
   ]
  },
  {
   "cell_type": "code",
   "execution_count": 8,
   "id": "9b82bf37",
   "metadata": {
    "execution": {
     "iopub.execute_input": "2025-04-13T12:52:48.206035Z",
     "iopub.status.busy": "2025-04-13T12:52:48.205363Z",
     "iopub.status.idle": "2025-04-13T12:52:48.219246Z",
     "shell.execute_reply": "2025-04-13T12:52:48.218299Z"
    },
    "papermill": {
     "duration": 0.025765,
     "end_time": "2025-04-13T12:52:48.220668",
     "exception": false,
     "start_time": "2025-04-13T12:52:48.194903",
     "status": "completed"
    },
    "tags": []
   },
   "outputs": [
    {
     "data": {
      "text/html": [
       "<div><style>\n",
       ".dataframe > thead > tr,\n",
       ".dataframe > tbody > tr {\n",
       "  text-align: right;\n",
       "  white-space: pre-wrap;\n",
       "}\n",
       "</style>\n",
       "<small>shape: (2, 2)</small><table border=\"1\" class=\"dataframe\"><thead><tr><th></th><th>Total</th></tr><tr><td>str</td><td>u32</td></tr></thead><tbody><tr><td>&quot;review&quot;</td><td>0</td></tr><tr><td>&quot;sentiment&quot;</td><td>0</td></tr></tbody></table></div>"
      ],
      "text/plain": [
       "shape: (2, 2)\n",
       "┌───────────┬───────┐\n",
       "│           ┆ Total │\n",
       "│ ---       ┆ ---   │\n",
       "│ str       ┆ u32   │\n",
       "╞═══════════╪═══════╡\n",
       "│ review    ┆ 0     │\n",
       "│ sentiment ┆ 0     │\n",
       "└───────────┴───────┘"
      ]
     },
     "execution_count": 8,
     "metadata": {},
     "output_type": "execute_result"
    }
   ],
   "source": [
    "# step 4\n",
    "missing_data = df.null_count()\n",
    "missing_data = missing_data.melt(\n",
    "    variable_name=\"\",\n",
    "    value_name=\"Total\"\n",
    ")\n",
    "missing_data "
   ]
  },
  {
   "cell_type": "code",
   "execution_count": 9,
   "id": "af33720c",
   "metadata": {
    "execution": {
     "iopub.execute_input": "2025-04-13T12:52:48.242156Z",
     "iopub.status.busy": "2025-04-13T12:52:48.241477Z",
     "iopub.status.idle": "2025-04-13T12:52:48.274387Z",
     "shell.execute_reply": "2025-04-13T12:52:48.273562Z"
    },
    "papermill": {
     "duration": 0.045347,
     "end_time": "2025-04-13T12:52:48.275944",
     "exception": false,
     "start_time": "2025-04-13T12:52:48.230597",
     "status": "completed"
    },
    "tags": []
   },
   "outputs": [
    {
     "data": {
      "text/html": [
       "<div><style>\n",
       ".dataframe > thead > tr,\n",
       ".dataframe > tbody > tr {\n",
       "  text-align: right;\n",
       "  white-space: pre-wrap;\n",
       "}\n",
       "</style>\n",
       "<small>shape: (2, 2)</small><table border=\"1\" class=\"dataframe\"><thead><tr><th>sentiment</th><th>count</th></tr><tr><td>str</td><td>u32</td></tr></thead><tbody><tr><td>&quot;positive&quot;</td><td>24884</td></tr><tr><td>&quot;negative&quot;</td><td>24698</td></tr></tbody></table></div>"
      ],
      "text/plain": [
       "shape: (2, 2)\n",
       "┌───────────┬───────┐\n",
       "│ sentiment ┆ count │\n",
       "│ ---       ┆ ---   │\n",
       "│ str       ┆ u32   │\n",
       "╞═══════════╪═══════╡\n",
       "│ positive  ┆ 24884 │\n",
       "│ negative  ┆ 24698 │\n",
       "└───────────┴───────┘"
      ]
     },
     "execution_count": 9,
     "metadata": {},
     "output_type": "execute_result"
    }
   ],
   "source": [
    "string_cols = [col for col, dtype in zip(df.columns, df.dtypes) if dtype in (pl.Utf8, pl.Categorical)]\n",
    "df.select('sentiment').drop_nulls().to_series().value_counts().sort('count',descending=True)"
   ]
  },
  {
   "cell_type": "code",
   "execution_count": 10,
   "id": "f0fca3c4",
   "metadata": {
    "execution": {
     "iopub.execute_input": "2025-04-13T12:52:48.298019Z",
     "iopub.status.busy": "2025-04-13T12:52:48.297327Z",
     "iopub.status.idle": "2025-04-13T12:52:48.416451Z",
     "shell.execute_reply": "2025-04-13T12:52:48.415573Z"
    },
    "papermill": {
     "duration": 0.131694,
     "end_time": "2025-04-13T12:52:48.417970",
     "exception": false,
     "start_time": "2025-04-13T12:52:48.286276",
     "status": "completed"
    },
    "tags": []
   },
   "outputs": [
    {
     "data": {
      "text/html": [
       "<div><style>\n",
       ".dataframe > thead > tr,\n",
       ".dataframe > tbody > tr {\n",
       "  text-align: right;\n",
       "  white-space: pre-wrap;\n",
       "}\n",
       "</style>\n",
       "<small>shape: (2, 5)</small><table border=\"1\" class=\"dataframe\"><thead><tr><th>column</th><th>count</th><th>unique</th><th>top</th><th>freq</th></tr><tr><td>str</td><td>f64</td><td>f64</td><td>str</td><td>f64</td></tr></thead><tbody><tr><td>&quot;review&quot;</td><td>49582.0</td><td>49582.0</td><td>&quot;Drab, dreary and a total waste…</td><td>1.0</td></tr><tr><td>&quot;sentiment&quot;</td><td>49582.0</td><td>2.0</td><td>&quot;positive&quot;</td><td>24884.0</td></tr></tbody></table></div>"
      ],
      "text/plain": [
       "shape: (2, 5)\n",
       "┌───────────┬─────────┬─────────┬─────────────────────────────────┬─────────┐\n",
       "│ column    ┆ count   ┆ unique  ┆ top                             ┆ freq    │\n",
       "│ ---       ┆ ---     ┆ ---     ┆ ---                             ┆ ---     │\n",
       "│ str       ┆ f64     ┆ f64     ┆ str                             ┆ f64     │\n",
       "╞═══════════╪═════════╪═════════╪═════════════════════════════════╪═════════╡\n",
       "│ review    ┆ 49582.0 ┆ 49582.0 ┆ Drab, dreary and a total waste… ┆ 1.0     │\n",
       "│ sentiment ┆ 49582.0 ┆ 2.0     ┆ positive                        ┆ 24884.0 │\n",
       "└───────────┴─────────┴─────────┴─────────────────────────────────┴─────────┘"
      ]
     },
     "execution_count": 10,
     "metadata": {},
     "output_type": "execute_result"
    }
   ],
   "source": [
    "# step 5\n",
    "string_cols = [col for col, dtype in zip(df.columns, df.dtypes) if dtype in (pl.Utf8, pl.Categorical)]\n",
    "summary = []\n",
    "for col in string_cols:\n",
    "    col_data = df.select(col)\n",
    "    col_summary = {\n",
    "        \"column\": col,\n",
    "        \"count\": col_data.drop_nulls().height,\n",
    "        \"unique\": col_data.unique().height,\n",
    "        \"top\": col_data.drop_nulls().to_series().value_counts().sort(\"count\", descending=True)[col][0],\n",
    "        \"freq\": col_data.drop_nulls().to_series().value_counts().sort('count',descending=True)['count'][0]\n",
    "    }\n",
    "    summary.append(col_summary)\n",
    "\n",
    "# summary dataframe\n",
    "describe_str = pl.DataFrame(summary).with_columns(\n",
    "    [\n",
    "        pl.col('count').cast(pl.Float64).round(2),\n",
    "        pl.col('unique').cast(pl.Float64).round(2),\n",
    "        pl.col('freq').cast(pl.Float64).round(2),\n",
    "    ]\n",
    ")\n",
    "describe_str"
   ]
  },
  {
   "cell_type": "code",
   "execution_count": 11,
   "id": "b424340d",
   "metadata": {
    "execution": {
     "iopub.execute_input": "2025-04-13T12:52:48.440331Z",
     "iopub.status.busy": "2025-04-13T12:52:48.439994Z",
     "iopub.status.idle": "2025-04-13T12:52:48.446410Z",
     "shell.execute_reply": "2025-04-13T12:52:48.445577Z"
    },
    "papermill": {
     "duration": 0.019587,
     "end_time": "2025-04-13T12:52:48.447849",
     "exception": false,
     "start_time": "2025-04-13T12:52:48.428262",
     "status": "completed"
    },
    "tags": []
   },
   "outputs": [
    {
     "data": {
      "text/html": [
       "<div><style>\n",
       ".dataframe > thead > tr,\n",
       ".dataframe > tbody > tr {\n",
       "  text-align: right;\n",
       "  white-space: pre-wrap;\n",
       "}\n",
       "</style>\n",
       "<small>shape: (49_582, 2)</small><table border=\"1\" class=\"dataframe\"><thead><tr><th>review</th><th>sentiment</th></tr><tr><td>str</td><td>str</td></tr></thead><tbody><tr><td>&quot;This movie is a great film. Th…</td><td>&quot;positive&quot;</td></tr><tr><td>&quot;&quot;Two wildlife photographers ar…</td><td>&quot;negative&quot;</td></tr><tr><td>&quot;Low budget &quot;films&quot; like this j…</td><td>&quot;negative&quot;</td></tr><tr><td>&quot;In my case I liked this movie …</td><td>&quot;positive&quot;</td></tr><tr><td>&quot;I went and saw Rivers and Tide…</td><td>&quot;positive&quot;</td></tr><tr><td>&hellip;</td><td>&hellip;</td></tr><tr><td>&quot;Blade is a dark, gloomy, but s…</td><td>&quot;positive&quot;</td></tr><tr><td>&quot;There are some things I will n…</td><td>&quot;positive&quot;</td></tr><tr><td>&quot;&quot;D.O.A.&quot; is a non-thrilling th…</td><td>&quot;negative&quot;</td></tr><tr><td>&quot;This German documentary, in En…</td><td>&quot;positive&quot;</td></tr><tr><td>&quot;Let&#x27;s get this out of the way,…</td><td>&quot;positive&quot;</td></tr></tbody></table></div>"
      ],
      "text/plain": [
       "shape: (49_582, 2)\n",
       "┌─────────────────────────────────┬───────────┐\n",
       "│ review                          ┆ sentiment │\n",
       "│ ---                             ┆ ---       │\n",
       "│ str                             ┆ str       │\n",
       "╞═════════════════════════════════╪═══════════╡\n",
       "│ This movie is a great film. Th… ┆ positive  │\n",
       "│ \"Two wildlife photographers ar… ┆ negative  │\n",
       "│ Low budget \"films\" like this j… ┆ negative  │\n",
       "│ In my case I liked this movie … ┆ positive  │\n",
       "│ I went and saw Rivers and Tide… ┆ positive  │\n",
       "│ …                               ┆ …         │\n",
       "│ Blade is a dark, gloomy, but s… ┆ positive  │\n",
       "│ There are some things I will n… ┆ positive  │\n",
       "│ \"D.O.A.\" is a non-thrilling th… ┆ negative  │\n",
       "│ This German documentary, in En… ┆ positive  │\n",
       "│ Let's get this out of the way,… ┆ positive  │\n",
       "└─────────────────────────────────┴───────────┘"
      ]
     },
     "execution_count": 11,
     "metadata": {},
     "output_type": "execute_result"
    }
   ],
   "source": [
    "df"
   ]
  },
  {
   "cell_type": "markdown",
   "id": "4553ddc4",
   "metadata": {
    "papermill": {
     "duration": 0.010435,
     "end_time": "2025-04-13T12:52:48.468899",
     "exception": false,
     "start_time": "2025-04-13T12:52:48.458464",
     "status": "completed"
    },
    "tags": []
   },
   "source": [
    "# <div style=\"background-color: aliceblue; font-family: san-serif, arial; text-align: center; border-radius: 25px;\">EDA</div>"
   ]
  },
  {
   "cell_type": "code",
   "execution_count": 12,
   "id": "46d7a72c",
   "metadata": {
    "execution": {
     "iopub.execute_input": "2025-04-13T12:52:48.560892Z",
     "iopub.status.busy": "2025-04-13T12:52:48.560271Z",
     "iopub.status.idle": "2025-04-13T12:52:48.567169Z",
     "shell.execute_reply": "2025-04-13T12:52:48.566481Z"
    },
    "papermill": {
     "duration": 0.019587,
     "end_time": "2025-04-13T12:52:48.568618",
     "exception": false,
     "start_time": "2025-04-13T12:52:48.549031",
     "status": "completed"
    },
    "tags": []
   },
   "outputs": [],
   "source": [
    "classes = df.select(pl.col('sentiment')).unique().to_series().to_list()\n"
   ]
  },
  {
   "cell_type": "code",
   "execution_count": 13,
   "id": "9c18012c",
   "metadata": {
    "execution": {
     "iopub.execute_input": "2025-04-13T12:52:48.590490Z",
     "iopub.status.busy": "2025-04-13T12:52:48.590165Z",
     "iopub.status.idle": "2025-04-13T12:52:48.659953Z",
     "shell.execute_reply": "2025-04-13T12:52:48.659066Z"
    },
    "papermill": {
     "duration": 0.082465,
     "end_time": "2025-04-13T12:52:48.661433",
     "exception": false,
     "start_time": "2025-04-13T12:52:48.578968",
     "status": "completed"
    },
    "tags": []
   },
   "outputs": [
    {
     "data": {
      "text/html": [
       "<div>\n",
       "<style scoped>\n",
       "    .dataframe tbody tr th:only-of-type {\n",
       "        vertical-align: middle;\n",
       "    }\n",
       "\n",
       "    .dataframe tbody tr th {\n",
       "        vertical-align: top;\n",
       "    }\n",
       "\n",
       "    .dataframe thead th {\n",
       "        text-align: right;\n",
       "    }\n",
       "</style>\n",
       "<table border=\"1\" class=\"dataframe\">\n",
       "  <thead>\n",
       "    <tr style=\"text-align: right;\">\n",
       "      <th></th>\n",
       "      <th>sentiment</th>\n",
       "      <th>count</th>\n",
       "    </tr>\n",
       "  </thead>\n",
       "  <tbody>\n",
       "    <tr>\n",
       "      <th>0</th>\n",
       "      <td>positive</td>\n",
       "      <td>24884</td>\n",
       "    </tr>\n",
       "    <tr>\n",
       "      <th>1</th>\n",
       "      <td>negative</td>\n",
       "      <td>24698</td>\n",
       "    </tr>\n",
       "  </tbody>\n",
       "</table>\n",
       "</div>"
      ],
      "text/plain": [
       "  sentiment  count\n",
       "0  positive  24884\n",
       "1  negative  24698"
      ]
     },
     "metadata": {},
     "output_type": "display_data"
    },
    {
     "data": {
      "text/html": [
       "<div>\n",
       "<style scoped>\n",
       "    .dataframe tbody tr th:only-of-type {\n",
       "        vertical-align: middle;\n",
       "    }\n",
       "\n",
       "    .dataframe tbody tr th {\n",
       "        vertical-align: top;\n",
       "    }\n",
       "\n",
       "    .dataframe thead th {\n",
       "        text-align: right;\n",
       "    }\n",
       "</style>\n",
       "<table border=\"1\" class=\"dataframe\">\n",
       "  <thead>\n",
       "    <tr style=\"text-align: right;\">\n",
       "      <th></th>\n",
       "      <th>sentiment</th>\n",
       "      <th>count</th>\n",
       "    </tr>\n",
       "  </thead>\n",
       "  <tbody>\n",
       "    <tr>\n",
       "      <th>0</th>\n",
       "      <td>positive</td>\n",
       "      <td>24884</td>\n",
       "    </tr>\n",
       "    <tr>\n",
       "      <th>1</th>\n",
       "      <td>negative</td>\n",
       "      <td>24698</td>\n",
       "    </tr>\n",
       "  </tbody>\n",
       "</table>\n",
       "</div>"
      ],
      "text/plain": [
       "  sentiment  count\n",
       "0  positive  24884\n",
       "1  negative  24698"
      ]
     },
     "execution_count": 13,
     "metadata": {},
     "output_type": "execute_result"
    }
   ],
   "source": [
    "sentiment_counts = df.get_column('sentiment').value_counts().to_pandas()\n",
    "display(sentiment_counts)\n",
    "tmp = sentiment_counts.set_index('sentiment').loc[classes].reset_index()\n",
    "tmp"
   ]
  },
  {
   "cell_type": "code",
   "execution_count": 14,
   "id": "dfef177c",
   "metadata": {
    "execution": {
     "iopub.execute_input": "2025-04-13T12:52:48.684261Z",
     "iopub.status.busy": "2025-04-13T12:52:48.683674Z",
     "iopub.status.idle": "2025-04-13T12:52:49.101370Z",
     "shell.execute_reply": "2025-04-13T12:52:49.100488Z"
    },
    "papermill": {
     "duration": 0.431374,
     "end_time": "2025-04-13T12:52:49.103468",
     "exception": false,
     "start_time": "2025-04-13T12:52:48.672094",
     "status": "completed"
    },
    "tags": []
   },
   "outputs": [
    {
     "data": {
      "image/png": "[encoded data removed]",
      "text/plain": [
       "<Figure size 1700x600 with 2 Axes>"
      ]
     },
     "metadata": {},
     "output_type": "display_data"
    }
   ],
   "source": [
    "classes = df.select(pl.col('sentiment')).unique().to_series().to_list()\n",
    "\n",
    "# plt.figure(figsize=(17, 6))\n",
    "fig, axes = plt.subplots(1, 2, figsize=(17,6))\n",
    "sentiment_counts = df.get_column('sentiment').value_counts().to_pandas()\n",
    "# reorder rows to matches classes\n",
    "sentiment_counts=  sentiment_counts.set_index('sentiment').loc[classes].reset_index()\n",
    "sns.barplot(x='sentiment', y='count',\n",
    "            data=sentiment_counts,\n",
    "           palette='Set2', order=classes, ax=axes[0])\n",
    "axes[0].set_title('Distribution of Classes')\n",
    "\n",
    "for _, row in enumerate(sentiment_counts.iterrows()):\n",
    "    sentiment = row[1]['sentiment']\n",
    "    count = row[1]['count']\n",
    "    x_pos = classes.index(sentiment)\n",
    "    axes[0].text(x=x_pos,\n",
    "                y=row[1]['count'] + 0.5,\n",
    "                s=str(count),\n",
    "                 ha='center', va='bottom',\n",
    "                 fontsize=10\n",
    "                )\n",
    "axes[0].tick_params(axis='x', rotation=20)\n",
    "colors=sns.color_palette('Set2', len(classes))\n",
    "plt_pie = axes[1].pie(\n",
    "    sentiment_counts['count'], labels=classes, autopct='%.2f%%',\n",
    "    textprops={'size': 14},\n",
    "    colors=colors, startangle=90,\n",
    ")\n",
    "center_circle= plt.Circle((0,0), 0.3, fc='white')\n",
    "axes[1].add_artist(center_circle)\n",
    "axes[1].set_title(\"Percentage of each classes\")\n",
    "\n",
    "plt.tight_layout()\n",
    "plt.show()"
   ]
  },
  {
   "cell_type": "markdown",
   "id": "fc9db06e",
   "metadata": {
    "papermill": {
     "duration": 0.011572,
     "end_time": "2025-04-13T12:52:49.127711",
     "exception": false,
     "start_time": "2025-04-13T12:52:49.116139",
     "status": "completed"
    },
    "tags": []
   },
   "source": [
    "# <div style=\"background-color: aliceblue; font-family: san-serif, arial; text-align: center; border-radius: 25px;\">Preprocessing</div>"
   ]
  },
  {
   "cell_type": "code",
   "execution_count": 15,
   "id": "0e7d239d",
   "metadata": {
    "execution": {
     "iopub.execute_input": "2025-04-13T12:52:49.152645Z",
     "iopub.status.busy": "2025-04-13T12:52:49.151968Z",
     "iopub.status.idle": "2025-04-13T12:52:49.155891Z",
     "shell.execute_reply": "2025-04-13T12:52:49.155174Z"
    },
    "papermill": {
     "duration": 0.017715,
     "end_time": "2025-04-13T12:52:49.157140",
     "exception": false,
     "start_time": "2025-04-13T12:52:49.139425",
     "status": "completed"
    },
    "tags": []
   },
   "outputs": [],
   "source": [
    "df2 = df"
   ]
  },
  {
   "cell_type": "markdown",
   "id": "efbabed9",
   "metadata": {
    "papermill": {
     "duration": 0.011629,
     "end_time": "2025-04-13T12:52:49.180726",
     "exception": false,
     "start_time": "2025-04-13T12:52:49.169097",
     "status": "completed"
    },
    "tags": []
   },
   "source": [
    "#### 1. Lowercasing"
   ]
  },
  {
   "cell_type": "code",
   "execution_count": 16,
   "id": "6dcdd92d",
   "metadata": {
    "execution": {
     "iopub.execute_input": "2025-04-13T12:52:49.205769Z",
     "iopub.status.busy": "2025-04-13T12:52:49.205094Z",
     "iopub.status.idle": "2025-04-13T12:52:49.391654Z",
     "shell.execute_reply": "2025-04-13T12:52:49.390790Z"
    },
    "papermill": {
     "duration": 0.200509,
     "end_time": "2025-04-13T12:52:49.392992",
     "exception": false,
     "start_time": "2025-04-13T12:52:49.192483",
     "status": "completed"
    },
    "tags": []
   },
   "outputs": [
    {
     "data": {
      "text/html": [
       "<div><style>\n",
       ".dataframe > thead > tr,\n",
       ".dataframe > tbody > tr {\n",
       "  text-align: right;\n",
       "  white-space: pre-wrap;\n",
       "}\n",
       "</style>\n",
       "<small>shape: (49_582, 2)</small><table border=\"1\" class=\"dataframe\"><thead><tr><th>review</th><th>sentiment</th></tr><tr><td>str</td><td>str</td></tr></thead><tbody><tr><td>&quot;this movie is a great film. th…</td><td>&quot;positive&quot;</td></tr><tr><td>&quot;&quot;two wildlife photographers ar…</td><td>&quot;negative&quot;</td></tr><tr><td>&quot;low budget &quot;films&quot; like this j…</td><td>&quot;negative&quot;</td></tr><tr><td>&quot;in my case i liked this movie …</td><td>&quot;positive&quot;</td></tr><tr><td>&quot;i went and saw rivers and tide…</td><td>&quot;positive&quot;</td></tr><tr><td>&hellip;</td><td>&hellip;</td></tr><tr><td>&quot;blade is a dark, gloomy, but s…</td><td>&quot;positive&quot;</td></tr><tr><td>&quot;there are some things i will n…</td><td>&quot;positive&quot;</td></tr><tr><td>&quot;&quot;d.o.a.&quot; is a non-thrilling th…</td><td>&quot;negative&quot;</td></tr><tr><td>&quot;this german documentary, in en…</td><td>&quot;positive&quot;</td></tr><tr><td>&quot;let&#x27;s get this out of the way,…</td><td>&quot;positive&quot;</td></tr></tbody></table></div>"
      ],
      "text/plain": [
       "shape: (49_582, 2)\n",
       "┌─────────────────────────────────┬───────────┐\n",
       "│ review                          ┆ sentiment │\n",
       "│ ---                             ┆ ---       │\n",
       "│ str                             ┆ str       │\n",
       "╞═════════════════════════════════╪═══════════╡\n",
       "│ this movie is a great film. th… ┆ positive  │\n",
       "│ \"two wildlife photographers ar… ┆ negative  │\n",
       "│ low budget \"films\" like this j… ┆ negative  │\n",
       "│ in my case i liked this movie … ┆ positive  │\n",
       "│ i went and saw rivers and tide… ┆ positive  │\n",
       "│ …                               ┆ …         │\n",
       "│ blade is a dark, gloomy, but s… ┆ positive  │\n",
       "│ there are some things i will n… ┆ positive  │\n",
       "│ \"d.o.a.\" is a non-thrilling th… ┆ negative  │\n",
       "│ this german documentary, in en… ┆ positive  │\n",
       "│ let's get this out of the way,… ┆ positive  │\n",
       "└─────────────────────────────────┴───────────┘"
      ]
     },
     "execution_count": 16,
     "metadata": {},
     "output_type": "execute_result"
    }
   ],
   "source": [
    "# step1 lowercasing\n",
    "df2 = df2.with_columns([\n",
    "    pl.col('review').str.to_lowercase().alias('review')\n",
    "])\n",
    "df2"
   ]
  },
  {
   "cell_type": "markdown",
   "id": "353b5d3d",
   "metadata": {
    "papermill": {
     "duration": 0.011733,
     "end_time": "2025-04-13T12:52:49.416712",
     "exception": false,
     "start_time": "2025-04-13T12:52:49.404979",
     "status": "completed"
    },
    "tags": []
   },
   "source": [
    "#### 2. Remove HTML tags"
   ]
  },
  {
   "cell_type": "markdown",
   "id": "6dc764fc",
   "metadata": {
    "papermill": {
     "duration": 0.011646,
     "end_time": "2025-04-13T12:52:49.440244",
     "exception": false,
     "start_time": "2025-04-13T12:52:49.428598",
     "status": "completed"
    },
    "tags": []
   },
   "source": [
    "let's take a look at those reivew with html tags"
   ]
  },
  {
   "cell_type": "code",
   "execution_count": 17,
   "id": "faca416d",
   "metadata": {
    "execution": {
     "iopub.execute_input": "2025-04-13T12:52:49.466262Z",
     "iopub.status.busy": "2025-04-13T12:52:49.465969Z",
     "iopub.status.idle": "2025-04-13T12:52:49.492034Z",
     "shell.execute_reply": "2025-04-13T12:52:49.491181Z"
    },
    "papermill": {
     "duration": 0.041452,
     "end_time": "2025-04-13T12:52:49.493549",
     "exception": false,
     "start_time": "2025-04-13T12:52:49.452097",
     "status": "completed"
    },
    "tags": []
   },
   "outputs": [
    {
     "data": {
      "text/html": [
       "<div><style>\n",
       ".dataframe > thead > tr,\n",
       ".dataframe > tbody > tr {\n",
       "  text-align: right;\n",
       "  white-space: pre-wrap;\n",
       "}\n",
       "</style>\n",
       "<small>shape: (28_968, 1)</small><table border=\"1\" class=\"dataframe\"><thead><tr><th>review</th></tr><tr><td>str</td></tr></thead><tbody><tr><td>&quot;&quot;Two wildlife photographers ar…</td></tr><tr><td>&quot;I went and saw Rivers and Tide…</td></tr><tr><td>&quot;Bloody awful! There&#x27;s just no …</td></tr><tr><td>&quot;The movie started off strong, …</td></tr><tr><td>&quot;House of Dracula was made towa…</td></tr><tr><td>&hellip;</td></tr><tr><td>&quot;I just blew four dollars renti…</td></tr><tr><td>&quot;Blade is a dark, gloomy, but s…</td></tr><tr><td>&quot;&quot;D.O.A.&quot; is a non-thrilling th…</td></tr><tr><td>&quot;This German documentary, in En…</td></tr><tr><td>&quot;Let&#x27;s get this out of the way,…</td></tr></tbody></table></div>"
      ],
      "text/plain": [
       "shape: (28_968, 1)\n",
       "┌─────────────────────────────────┐\n",
       "│ review                          │\n",
       "│ ---                             │\n",
       "│ str                             │\n",
       "╞═════════════════════════════════╡\n",
       "│ \"Two wildlife photographers ar… │\n",
       "│ I went and saw Rivers and Tide… │\n",
       "│ Bloody awful! There's just no … │\n",
       "│ The movie started off strong, … │\n",
       "│ House of Dracula was made towa… │\n",
       "│ …                               │\n",
       "│ I just blew four dollars renti… │\n",
       "│ Blade is a dark, gloomy, but s… │\n",
       "│ \"D.O.A.\" is a non-thrilling th… │\n",
       "│ This German documentary, in En… │\n",
       "│ Let's get this out of the way,… │\n",
       "└─────────────────────────────────┘"
      ]
     },
     "execution_count": 17,
     "metadata": {},
     "output_type": "execute_result"
    }
   ],
   "source": [
    "examples = df.filter(\n",
    "    pl.col('review').str.contains(r'<[^>]+>')\n",
    ").select('review')\n",
    "\n",
    "examples"
   ]
  },
  {
   "cell_type": "markdown",
   "id": "d096315a",
   "metadata": {
    "papermill": {
     "duration": 0.011917,
     "end_time": "2025-04-13T12:52:49.517816",
     "exception": false,
     "start_time": "2025-04-13T12:52:49.505899",
     "status": "completed"
    },
    "tags": []
   },
   "source": [
    "About 28968 reviews has html tags"
   ]
  },
  {
   "cell_type": "code",
   "execution_count": 18,
   "id": "fe3cccb2",
   "metadata": {
    "execution": {
     "iopub.execute_input": "2025-04-13T12:52:49.542854Z",
     "iopub.status.busy": "2025-04-13T12:52:49.542543Z",
     "iopub.status.idle": "2025-04-13T12:52:49.556131Z",
     "shell.execute_reply": "2025-04-13T12:52:49.555132Z"
    },
    "papermill": {
     "duration": 0.028252,
     "end_time": "2025-04-13T12:52:49.557917",
     "exception": false,
     "start_time": "2025-04-13T12:52:49.529665",
     "status": "completed"
    },
    "tags": []
   },
   "outputs": [
    {
     "name": "stdout",
     "output_type": "stream",
     "text": [
      "\"two wildlife photographers are traveling through the amazon river basin on their latest assignment. while trying to capture the wildlife of the area on film, our photographers cross paths with a game hunter, who is stalking the animals for another reason. looking to eliminate the witnesses to his illegal activities, the hunter decides to",
      "\" according to the dvd sleeve's synopsis. <br /><br />handsome guide peter brown (as jim pendrake) takes pretty blonde ahna capri (as terry greene) and her good-looking brother tom simcox (as art greene) into the venezuelan jungle, to admire the view, and take wildlife pictures. after they hook up with hunky big-game hunter william smith (as caribe), psychological dramatics surface. <br /><br />a pivotal scene, with mr. brown reposing in the \"vee\" of a tree, and sharing a cigarette with mr. simcox, is nicely staged. the circular direction reappears in the later \"fight\" between brown and mr. smith; and, it is effective. simcox' early sex romp adds nothing to the story; it could have been cut, to take advantage of what seems like flirting between the brown and simcox characters. an attraction between brown and ms. capri could have been played up, also. <br /><br />the music, including jim stein's \"love all things that love the sun\", is fine; but the film needs to be re-tracked, to cut out animals which do not appear on screen. and, there is far too much superfluous footage on display. \"piranha\" is a case where less would have been more.\n",
      "=========================\n",
      "\n",
      "i went and saw rivers and tides again today. it's the second time in two days and yes, i do see movies i like as many times as is necessary. yesterday i was struck by the brilliance of the images and goldsworthy's works. this morning when i threw the coins i received #29 the abysmal (water). goldsworthy has an affinity with water, hence the title. i received the 5th line changing which moved to #7 the army. to blake art was a war. anyway, i knew i had to see the film again.<br /><br />i read one of the few reviews extant online from the sf examiner. the critic loved the film but said goldsworthy's comments got in the way of his enjoyment of the film. he'd rather have only the images and the wonderful soundtrack. so i was aware of that as i watched this second time.<br /><br />yesterday i thought that i'd vote for andy goldsworthy as king of the world. well today i could get a little bit beyond the images and listen to what he had to say. could i enjoy the film without his comments? what he is doing, what he is saying goes way beyond \"art\". his understanding of water, time, stone, change, and on and on made me think the man is the reincarnation of lao tsu or some avatar. some of his work/words are zen like. his knowledge...<br /><br />anyway, the film is only (apparently) being shown here in the bay area. be a trend setter. go to your local cinema and tell them, no insist that they have to book a film you've heard about from the hinter lands. it's called rivers and tides.<br /><br />\n",
      "=========================\n",
      "\n",
      "bloody awful! there's just no other way to put it. in fact, it's **so** bad that the only reason i'm wasting words on this is to warn off other reasonable viewers who want to be intelligently entertained. you'll lose i.q. points watching this. come to think of it, it's not even suitable for mindless viewing because of the irritation factor. there's no guilty pleasure in watching something this incompetent.<br /><br />reasons to avoid it:<br /><br />1) horribly scientifically inaccurate, to the point where this isn't sci-fi anymore, it's just mindnumbingly sloppy, lazy fantasy.<br /><br />2) it sports fx that are cheesy beyond belief. not even cheesy-kitsch that's a wink and a nod, like vintage doctor who, but just cheap and shoddy to the point of being insulting. the fx are so bad they're not even laughable. they spent about a dollar-fifty on this, not more.<br /><br />3) the direction is so weak and mindless that the only way the actors could make it through to the end of shooting without becoming terminally depressed was to sleepwalk through their roles, although catherine mccormack made some effort anyway, probably on principle and despite the director. moreover, this isn't peter hyams's only bad film: his flubs vastly outnumber any barely salvageable ones, of which timecop was the last such, and that was 15 years before this writing. he's had nothing halfway decent since (end of days was just as slapdash, arnold was the only draw, and he needed much firmer direction than hyams provided). hyams just keeps making it more and more pointless for anyone to consider giving him more work.<br /><br />and finally,<br /><br />4) ray bradbury's stories deserve far better treatment than this. refusing to watch this film sends that message, not that hollywood is particularly listening.<br /><br />watch at your own risk. if you do and it turns you off movies altogether, you've only yourself (and hyams) to blame because you've been more than adequately warned.\n",
      "=========================\n",
      "\n"
     ]
    }
   ],
   "source": [
    "examples = df2.filter(\n",
    "    pl.col('review').str.contains(r'<[^>]+>')\n",
    ").select('review').head(3).to_series()\n",
    "\n",
    "for item in examples:\n",
    "    print(item)\n",
    "    print(\"=\"*25 + \"\\n\")"
   ]
  },
  {
   "cell_type": "code",
   "execution_count": 19,
   "id": "606658c9",
   "metadata": {
    "execution": {
     "iopub.execute_input": "2025-04-13T12:52:49.584325Z",
     "iopub.status.busy": "2025-04-13T12:52:49.583544Z",
     "iopub.status.idle": "2025-04-13T12:52:49.902589Z",
     "shell.execute_reply": "2025-04-13T12:52:49.901688Z"
    },
    "papermill": {
     "duration": 0.333645,
     "end_time": "2025-04-13T12:52:49.903957",
     "exception": false,
     "start_time": "2025-04-13T12:52:49.570312",
     "status": "completed"
    },
    "tags": []
   },
   "outputs": [
    {
     "data": {
      "text/plain": [
       "\"this movie is a great film. the movie shows so many themes all in one amazing film. driving lessons centers around ben (rupert grint) a shy 17 year old who is coming of age. the movie goes on about how ben is sick of his dominating mother and how he just wants to be himself. ben then meets evie, who he makes a very special bond with. the two take a journey and in the process ben finds himself and what a relationship that he and evie share. this is the movie that you watch by yourself, or with someone else. no matter what, you will all feel what ben goes through in the movie. it is a very heart warming film that just makes you think whether your driving lessons were ever as emotional or as much of a journey as ben's lessons.\""
      ]
     },
     "execution_count": 19,
     "metadata": {},
     "output_type": "execute_result"
    }
   ],
   "source": [
    "import re\n",
    "\n",
    "def remove_html_tags(text):\n",
    "    # pattern = r'[^a-zA-Z0-9\\s]'\n",
    "    # text = re.sub(pattern,'', text)\n",
    "    return re.sub(r'<.*?>', '', text)\n",
    "\n",
    "df2 = df2.with_columns([\n",
    "    pl.col('review').map_elements(remove_html_tags).alias('review')\n",
    "])\n",
    "\n",
    "df2.item(0, 'review')"
   ]
  },
  {
   "cell_type": "markdown",
   "id": "4e1683ff",
   "metadata": {
    "papermill": {
     "duration": 0.012091,
     "end_time": "2025-04-13T12:52:49.928535",
     "exception": false,
     "start_time": "2025-04-13T12:52:49.916444",
     "status": "completed"
    },
    "tags": []
   },
   "source": [
    "#### 3. Removing URLs"
   ]
  },
  {
   "cell_type": "markdown",
   "id": "53839d7f",
   "metadata": {
    "papermill": {
     "duration": 0.0121,
     "end_time": "2025-04-13T12:52:49.952953",
     "exception": false,
     "start_time": "2025-04-13T12:52:49.940853",
     "status": "completed"
    },
    "tags": []
   },
   "source": [
    "Review some samples that has urls"
   ]
  },
  {
   "cell_type": "code",
   "execution_count": 20,
   "id": "784cbab8",
   "metadata": {
    "execution": {
     "iopub.execute_input": "2025-04-13T12:52:49.979303Z",
     "iopub.status.busy": "2025-04-13T12:52:49.978991Z",
     "iopub.status.idle": "2025-04-13T12:52:50.007317Z",
     "shell.execute_reply": "2025-04-13T12:52:50.006439Z"
    },
    "papermill": {
     "duration": 0.043194,
     "end_time": "2025-04-13T12:52:50.008728",
     "exception": false,
     "start_time": "2025-04-13T12:52:49.965534",
     "status": "completed"
    },
    "tags": []
   },
   "outputs": [
    {
     "data": {
      "text/html": [
       "<div><style>\n",
       ".dataframe > thead > tr,\n",
       ".dataframe > tbody > tr {\n",
       "  text-align: right;\n",
       "  white-space: pre-wrap;\n",
       "}\n",
       "</style>\n",
       "<small>shape: (119, 1)</small><table border=\"1\" class=\"dataframe\"><thead><tr><th>review</th></tr><tr><td>str</td></tr></thead><tbody><tr><td>&quot;This 1955 heist film follows T…</td></tr><tr><td>&quot;Walt Disney&#x27;s &quot;The Rookie&quot; is …</td></tr><tr><td>&quot;Written and acted by sincere a…</td></tr><tr><td>&quot;This film may be great, but it…</td></tr><tr><td>&quot;I just saw this movie on HBO, …</td></tr><tr><td>&hellip;</td></tr><tr><td>&quot;As is well-known among long ha…</td></tr><tr><td>&quot;&quot;Scientists at a remote lab ex…</td></tr><tr><td>&quot;Alone in the Dark is Uwe Boll&#x27;…</td></tr><tr><td>&quot;Despite the rave reviews this …</td></tr><tr><td>&quot;&lt;br /&gt;&lt;br /&gt;I saw once No Man&#x27;…</td></tr></tbody></table></div>"
      ],
      "text/plain": [
       "shape: (119, 1)\n",
       "┌─────────────────────────────────┐\n",
       "│ review                          │\n",
       "│ ---                             │\n",
       "│ str                             │\n",
       "╞═════════════════════════════════╡\n",
       "│ This 1955 heist film follows T… │\n",
       "│ Walt Disney's \"The Rookie\" is … │\n",
       "│ Written and acted by sincere a… │\n",
       "│ This film may be great, but it… │\n",
       "│ I just saw this movie on HBO, … │\n",
       "│ …                               │\n",
       "│ As is well-known among long ha… │\n",
       "│ \"Scientists at a remote lab ex… │\n",
       "│ Alone in the Dark is Uwe Boll'… │\n",
       "│ Despite the rave reviews this … │\n",
       "│ <br /><br />I saw once No Man'… │\n",
       "└─────────────────────────────────┘"
      ]
     },
     "execution_count": 20,
     "metadata": {},
     "output_type": "execute_result"
    }
   ],
   "source": [
    "examples = df.filter(\n",
    "    pl.col('review').str.contains(r'https?:\\/\\/(www\\.)?[-a-zA-Z0-9@:%._\\+~#=]{1,256}\\.[a-zA-Z0-9()]{1,6}\\b([-a-zA-Z0-9()!@:%_\\+.~#?&\\/\\/=]*)')\n",
    ").select('review')\n",
    "\n",
    "examples"
   ]
  },
  {
   "cell_type": "markdown",
   "id": "66e03ab1",
   "metadata": {
    "papermill": {
     "duration": 0.012206,
     "end_time": "2025-04-13T12:52:50.033698",
     "exception": false,
     "start_time": "2025-04-13T12:52:50.021492",
     "status": "completed"
    },
    "tags": []
   },
   "source": [
    "about 119 reviews contain URLs"
   ]
  },
  {
   "cell_type": "code",
   "execution_count": 21,
   "id": "ef7c7228",
   "metadata": {
    "execution": {
     "iopub.execute_input": "2025-04-13T12:52:50.059898Z",
     "iopub.status.busy": "2025-04-13T12:52:50.059585Z",
     "iopub.status.idle": "2025-04-13T12:52:50.065064Z",
     "shell.execute_reply": "2025-04-13T12:52:50.064345Z"
    },
    "papermill": {
     "duration": 0.020138,
     "end_time": "2025-04-13T12:52:50.066332",
     "exception": false,
     "start_time": "2025-04-13T12:52:50.046194",
     "status": "completed"
    },
    "tags": []
   },
   "outputs": [
    {
     "data": {
      "text/plain": [
       "\"This 1955 heist film follows Tony le Stephanois, recently released from prison for theft, as he undertakes the robbery of his life. He teams up with his old heist buddies and they bring in an expert safe-cracker, Cesar from Milan (played by Jules Dassin, who also directed. He only directed because he had been blacklisted as a communist in the U.S. and couldn't work in Hollywood.) The brilliance of this film is the 1/2 hour during the robbery. During all this time, there is no dialogue and no music, only the muted sounds of digging through the floor or drilling the safe. This increases the suspense and draws you in. They get away with several hundred million francs worth of jewels, but a jewel offered to a dancer by Cesar brings their haul to the attention of a trio of brutal brothers. They set out to get the stash for themselves and bring misfortune in their wake. Great heist/gangster movie, but I prefer J.-P. Melville's films in this genre.<br /><br />This movie is like some lemonade I had last night. I had gone to a Caribbean restaurant and the lemonade was made with sugar cane juice instead of sugar. It also had a lot of ice and was heavy on the lemons, leaving it fairly sour (which I like). The sugar cane juice imparted a subtle, slightly more mellow taste to it than actual sugar, and the ice made sure it was cold and refreshing as I sucked it down. 7.5/10 http://blog.myspace.com/locoformovies\""
      ]
     },
     "execution_count": 21,
     "metadata": {},
     "output_type": "execute_result"
    }
   ],
   "source": [
    "examples.item(0, 'review')"
   ]
  },
  {
   "cell_type": "code",
   "execution_count": 22,
   "id": "540083ab",
   "metadata": {
    "execution": {
     "iopub.execute_input": "2025-04-13T12:52:50.094006Z",
     "iopub.status.busy": "2025-04-13T12:52:50.093692Z",
     "iopub.status.idle": "2025-04-13T12:52:50.341028Z",
     "shell.execute_reply": "2025-04-13T12:52:50.340151Z"
    },
    "papermill": {
     "duration": 0.263235,
     "end_time": "2025-04-13T12:52:50.342473",
     "exception": false,
     "start_time": "2025-04-13T12:52:50.079238",
     "status": "completed"
    },
    "tags": []
   },
   "outputs": [
    {
     "data": {
      "text/plain": [
       "'\"two wildlife photographers are traveling through the amazon river basin on their latest assignment. while trying to capture the wildlife of the area on film, our photographers cross paths with a game hunter, who is stalking the animals for another reason. looking to eliminate the witnesses to his illegal activities, the hunter decides to\\x85\" according to the dvd sleeve\\'s synopsis. handsome guide peter brown (as jim pendrake) takes pretty blonde ahna capri (as terry greene) and her good-looking brother tom simcox (as art greene) into the venezuelan jungle, to admire the view, and take wildlife pictures. after they hook up with hunky big-game hunter william smith (as caribe), psychological dramatics surface. a pivotal scene, with mr. brown reposing in the \"vee\" of a tree, and sharing a cigarette with mr. simcox, is nicely staged. the circular direction reappears in the later \"fight\" between brown and mr. smith; and, it is effective. simcox\\' early sex romp adds nothing to the story; it could have been cut, to take advantage of what seems like flirting between the brown and simcox characters. an attraction between brown and ms. capri could have been played up, also. the music, including jim stein\\'s \"love all things that love the sun\", is fine; but the film needs to be re-tracked, to cut out animals which do not appear on screen. and, there is far too much superfluous footage on display. \"piranha\" is a case where less would have been more.'"
      ]
     },
     "execution_count": 22,
     "metadata": {},
     "output_type": "execute_result"
    }
   ],
   "source": [
    "def remove_urls(text):\n",
    "    return re.sub(r'https?:\\/\\/(www\\.)?[-a-zA-Z0-9@:%._\\+~#=]{1,256}\\.[a-zA-Z0-9()]{1,6}\\b([-a-zA-Z0-9()!@:%_\\+.~#?&\\/\\/=]*)', '', text)\n",
    "\n",
    "df2 = df2.with_columns([\n",
    "    pl.col('review').map_elements(remove_urls).alias('review')\n",
    "])\n",
    "df2.item(1, 'review')"
   ]
  },
  {
   "cell_type": "markdown",
   "id": "975727e2",
   "metadata": {
    "papermill": {
     "duration": 0.012406,
     "end_time": "2025-04-13T12:52:50.368110",
     "exception": false,
     "start_time": "2025-04-13T12:52:50.355704",
     "status": "completed"
    },
    "tags": []
   },
   "source": [
    "#### 4. Remove Punctuation"
   ]
  },
  {
   "cell_type": "code",
   "execution_count": 23,
   "id": "67790058",
   "metadata": {
    "execution": {
     "iopub.execute_input": "2025-04-13T12:52:50.394685Z",
     "iopub.status.busy": "2025-04-13T12:52:50.394311Z",
     "iopub.status.idle": "2025-04-13T12:52:50.399636Z",
     "shell.execute_reply": "2025-04-13T12:52:50.398903Z"
    },
    "papermill": {
     "duration": 0.02023,
     "end_time": "2025-04-13T12:52:50.400915",
     "exception": false,
     "start_time": "2025-04-13T12:52:50.380685",
     "status": "completed"
    },
    "tags": []
   },
   "outputs": [
    {
     "data": {
      "text/plain": [
       "'!\"#$%&\\'()*+,-./:;<=>?@[\\\\]^_`{|}~'"
      ]
     },
     "execution_count": 23,
     "metadata": {},
     "output_type": "execute_result"
    }
   ],
   "source": [
    "import string, time\n",
    "string.punctuation"
   ]
  },
  {
   "cell_type": "code",
   "execution_count": 24,
   "id": "4303e154",
   "metadata": {
    "execution": {
     "iopub.execute_input": "2025-04-13T12:52:50.428563Z",
     "iopub.status.busy": "2025-04-13T12:52:50.428207Z",
     "iopub.status.idle": "2025-04-13T12:52:51.831725Z",
     "shell.execute_reply": "2025-04-13T12:52:51.830883Z"
    },
    "papermill": {
     "duration": 1.418977,
     "end_time": "2025-04-13T12:52:51.833085",
     "exception": false,
     "start_time": "2025-04-13T12:52:50.414108",
     "status": "completed"
    },
    "tags": []
   },
   "outputs": [
    {
     "data": {
      "text/plain": [
       "'this movie is a great film the movie shows so many themes all in one amazing film driving lessons centers around ben rupert grint a shy 17 year old who is coming of age the movie goes on about how ben is sick of his dominating mother and how he just wants to be himself ben then meets evie who he makes a very special bond with the two take a journey and in the process ben finds himself and what a relationship that he and evie share this is the movie that you watch by yourself or with someone else no matter what you will all feel what ben goes through in the movie it is a very heart warming film that just makes you think whether your driving lessons were ever as emotional or as much of a journey as bens lessons'"
      ]
     },
     "execution_count": 24,
     "metadata": {},
     "output_type": "execute_result"
    }
   ],
   "source": [
    "def remove_punctuation(text):\n",
    "    return text.translate(str.maketrans('','', string.punctuation))\n",
    "\n",
    "df2 = df2.with_columns([\n",
    "    pl.col('review').map_elements(remove_punctuation).alias('review')\n",
    "])\n",
    "\n",
    "df2.item(0, 'review')"
   ]
  },
  {
   "cell_type": "markdown",
   "id": "edd578cd",
   "metadata": {
    "papermill": {
     "duration": 0.014051,
     "end_time": "2025-04-13T12:52:51.860744",
     "exception": false,
     "start_time": "2025-04-13T12:52:51.846693",
     "status": "completed"
    },
    "tags": []
   },
   "source": [
    "#### 5. Chat word treatment"
   ]
  },
  {
   "cell_type": "code",
   "execution_count": 25,
   "id": "2385a87f",
   "metadata": {
    "execution": {
     "iopub.execute_input": "2025-04-13T12:52:51.888435Z",
     "iopub.status.busy": "2025-04-13T12:52:51.888122Z",
     "iopub.status.idle": "2025-04-13T12:52:51.896956Z",
     "shell.execute_reply": "2025-04-13T12:52:51.896167Z"
    },
    "papermill": {
     "duration": 0.024457,
     "end_time": "2025-04-13T12:52:51.898365",
     "exception": false,
     "start_time": "2025-04-13T12:52:51.873908",
     "status": "completed"
    },
    "tags": []
   },
   "outputs": [],
   "source": [
    "chat_words = {\n",
    "    \"AFAIK\": \"As Far As I Know\",\n",
    "    \"AFK\": \"Away From Keyboard\",\n",
    "    \"ASAP\": \"As Soon As Possible\",\n",
    "    \"ATK\": \"At The Keyboard\",\n",
    "    \"ATM\": \"At The Moment\",\n",
    "    \"A3\": \"Anytime, Anywhere, Anyplace\",\n",
    "    \"BAK\": \"Back At Keyboard\",\n",
    "    \"BBL\": \"Be Back Later\",\n",
    "    \"BBS\": \"Be Back Soon\",\n",
    "    \"BFN\": \"Bye For Now\",\n",
    "    \"B4N\": \"Bye For Now\",\n",
    "    \"BRB\": \"Be Right Back\",\n",
    "    \"BRT\": \"Be Right There\",\n",
    "    \"BTW\": \"By The Way\",\n",
    "    \"B4\": \"Before\",\n",
    "    \"CU\": \"See You\",\n",
    "    \"CUL8R\": \"See You Later\",\n",
    "    \"CYA\": \"See You\",\n",
    "    \"FAQ\": \"Frequently Asked Questions\",\n",
    "    \"FC\": \"Fingers Crossed\",\n",
    "    \"FWIW\": \"For What It's Worth\",\n",
    "    \"FYI\": \"For Your Information\",\n",
    "    \"GAL\": \"Get A Life\",\n",
    "    \"GG\": \"Good Game\",\n",
    "    \"GN\": \"Good Night\",\n",
    "    \"GMTA\": \"Great Minds Think Alike\",\n",
    "    \"GR8\": \"Great!\",\n",
    "    \"G9\": \"Genius\",\n",
    "    \"IC\": \"I See\",\n",
    "    \"ICQ\": \"I Seek you (also a chat program)\",\n",
    "    \"ILU\": \"I Love You\",\n",
    "    \"IMHO\": \"In My Honest/Humble Opinion\",\n",
    "    \"IMO\": \"In My Opinion\",\n",
    "    \"IOW\": \"In Other Words\",\n",
    "    \"IRL\": \"In Real Life\",\n",
    "    \"KISS\": \"Keep It Simple, Stupid\",\n",
    "    \"LDR\": \"Long Distance Relationship\",\n",
    "    \"LMAO\": \"Laugh My A.. Off\",\n",
    "    \"LOL\": \"Laughing Out Loud\",\n",
    "    \"LTNS\": \"Long Time No See\",\n",
    "    \"L8R\": \"Later\",\n",
    "    \"MTE\": \"My Thoughts Exactly\",\n",
    "    \"M8\": \"Mate\",\n",
    "    \"NRN\": \"No Reply Necessary\",\n",
    "    \"OIC\": \"Oh I See\",\n",
    "    \"PITA\": \"Pain In The A..\",\n",
    "    \"PRT\": \"Party\",\n",
    "    \"PRW\": \"Parents Are Watching\",\n",
    "    \"QPSA\": \"Que Pasa?\",\n",
    "    \"ROFL\": \"Rolling On The Floor Laughing\",\n",
    "    \"ROFLOL\": \"Rolling On The Floor Laughing Out Loud\",\n",
    "    \"ROTFLMAO\": \"Rolling On The Floor Laughing My A.. Off\",\n",
    "    \"SK8\": \"Skate\",\n",
    "    \"STATS\": \"Your sex and age\",\n",
    "    \"ASL\": \"Age, Sex, Location\",\n",
    "    \"THX\": \"Thank You\",\n",
    "    \"TTFN\": \"Ta-Ta For Now!\",\n",
    "    \"TTYL\": \"Talk To You Later\",\n",
    "    \"U\": \"You\",\n",
    "    \"U2\": \"You Too\",\n",
    "    \"U4E\": \"Yours For Ever\",\n",
    "    \"WB\": \"Welcome Back\",\n",
    "    \"WTF\": \"What The F...\",\n",
    "    \"WTG\": \"Way To Go!\",\n",
    "    \"WUF\": \"Where Are You From?\",\n",
    "    \"W8\": \"Wait...\",\n",
    "    \"7K\": \"Sick:-D Laughter\",\n",
    "    \"TFW\": \"That feeling when\",\n",
    "    \"MFW\": \"My face when\",\n",
    "    \"MRW\": \"My reaction when\",\n",
    "    \"IFYP\": \"I feel your pain\",\n",
    "    \"LOL\": \"Laughing out loud\",\n",
    "    \"TNTL\": \"Trying not to laugh\",\n",
    "    \"JK\": \"Just kidding\",\n",
    "    \"IDC\": \"I don’t care\",\n",
    "    \"ILY\": \"I love you\",\n",
    "    \"IMU\": \"I miss you\",\n",
    "    \"ADIH\": \"Another day in hell\",\n",
    "    \"IDC\": \"I don’t care\",\n",
    "    \"ZZZ\": \"Sleeping, bored, tired\",\n",
    "    \"WYWH\": \"Wish you were here\",\n",
    "    \"TIME\": \"Tears in my eyes\",\n",
    "    \"BAE\": \"Before anyone else\",\n",
    "    \"FIMH\": \"Forever in my heart\",\n",
    "    \"BSAAW\": \"Big smile and a wink\",\n",
    "    \"BWL\": \"Bursting with laughter\",\n",
    "    \"LMAO\": \"Laughing my a** off\",\n",
    "    \"BFF\": \"Best friends forever\",\n",
    "    \"CSL\": \"Can’t stop laughing\",\n",
    "}\n"
   ]
  },
  {
   "cell_type": "markdown",
   "id": "dff707ac",
   "metadata": {
    "papermill": {
     "duration": 0.012715,
     "end_time": "2025-04-13T12:52:51.924489",
     "exception": false,
     "start_time": "2025-04-13T12:52:51.911774",
     "status": "completed"
    },
    "tags": []
   },
   "source": [
    "Let's log out some samples with those ABBRIEVIATION "
   ]
  },
  {
   "cell_type": "code",
   "execution_count": 26,
   "id": "9133a525",
   "metadata": {
    "execution": {
     "iopub.execute_input": "2025-04-13T12:52:51.952550Z",
     "iopub.status.busy": "2025-04-13T12:52:51.952206Z",
     "iopub.status.idle": "2025-04-13T12:52:54.437592Z",
     "shell.execute_reply": "2025-04-13T12:52:54.436413Z"
    },
    "papermill": {
     "duration": 2.501795,
     "end_time": "2025-04-13T12:52:54.439259",
     "exception": false,
     "start_time": "2025-04-13T12:52:51.937464",
     "status": "completed"
    },
    "tags": []
   },
   "outputs": [
    {
     "name": "stdout",
     "output_type": "stream",
     "text": [
      "1567\n"
     ]
    }
   ],
   "source": [
    "chat_words_set = set(word.lower() for word in chat_words.keys())\n",
    "def contain_chat_words(text):\n",
    "    words = text.lower().split()\n",
    "    \n",
    "    return any(word in chat_words_set for word in words)\n",
    "\n",
    "examples = df2.filter(\n",
    "    pl.col('review').map_elements(contain_chat_words)\n",
    ")\n",
    "\n",
    "lst = []\n",
    "for i in range(examples.height):  \n",
    "    text = examples.item(i, 'review')\n",
    "    # print(text)\n",
    "    words = text.lower().split()\n",
    "    for word in words:\n",
    "        if word in chat_words_set and word != 'time':\n",
    "            lst.append([word, i])\n",
    "print(len(lst))"
   ]
  },
  {
   "cell_type": "code",
   "execution_count": 27,
   "id": "42a124f3",
   "metadata": {
    "execution": {
     "iopub.execute_input": "2025-04-13T12:52:54.468627Z",
     "iopub.status.busy": "2025-04-13T12:52:54.468256Z",
     "iopub.status.idle": "2025-04-13T12:52:54.474628Z",
     "shell.execute_reply": "2025-04-13T12:52:54.473571Z"
    },
    "papermill": {
     "duration": 0.022447,
     "end_time": "2025-04-13T12:52:54.476141",
     "exception": false,
     "start_time": "2025-04-13T12:52:54.453694",
     "status": "completed"
    },
    "tags": []
   },
   "outputs": [
    {
     "data": {
      "text/plain": [
       "'alexandra maria lara a very beautiful and enticing woman but not a good actress in all the films ive seen her in she appears to me as the exact same character whether it be in the downfall nackt vom suchen und finden der liebe and now wo ist fred she always is plays the young goodhearted woman who is a little naive and doesnt know how to handle the things happening to her she disposes of a repertoire of probably five different facial expressions that she works with abundantly i personally have a hard time believing that she could play a mysterious and slightly obnoxious character because it just isnt in here so shes typecast as the nice girl next door which she is but once again she aint up to snuff when it comes to acting til schweiger same thing the film downright stupid as it was an american movie it would have been a great role for adam sandler who i dont like either i wasnt offended by the fact that this is a film with handicapped people in it i just thought that the jokes resulting from this werent funny at all i chuckled twice or three times but when i was halfway through it i was just bored and annoyed and wanted this flick to end'"
      ]
     },
     "execution_count": 27,
     "metadata": {},
     "output_type": "execute_result"
    }
   ],
   "source": [
    "examples.item(20, 'review')"
   ]
  },
  {
   "cell_type": "code",
   "execution_count": 28,
   "id": "140b3fc2",
   "metadata": {
    "execution": {
     "iopub.execute_input": "2025-04-13T12:52:54.505358Z",
     "iopub.status.busy": "2025-04-13T12:52:54.505068Z",
     "iopub.status.idle": "2025-04-13T12:52:56.997736Z",
     "shell.execute_reply": "2025-04-13T12:52:56.996811Z"
    },
    "papermill": {
     "duration": 2.509398,
     "end_time": "2025-04-13T12:52:56.999365",
     "exception": false,
     "start_time": "2025-04-13T12:52:54.489967",
     "status": "completed"
    },
    "tags": []
   },
   "outputs": [
    {
     "data": {
      "text/html": [
       "<div><style>\n",
       ".dataframe > thead > tr,\n",
       ".dataframe > tbody > tr {\n",
       "  text-align: right;\n",
       "  white-space: pre-wrap;\n",
       "}\n",
       "</style>\n",
       "<small>shape: (49_582, 2)</small><table border=\"1\" class=\"dataframe\"><thead><tr><th>review</th><th>sentiment</th></tr><tr><td>str</td><td>str</td></tr></thead><tbody><tr><td>&quot;this movie is a great film the…</td><td>&quot;positive&quot;</td></tr><tr><td>&quot;two wildlife photographers are…</td><td>&quot;negative&quot;</td></tr><tr><td>&quot;low budget films like this jus…</td><td>&quot;negative&quot;</td></tr><tr><td>&quot;in my case i liked this movie …</td><td>&quot;positive&quot;</td></tr><tr><td>&quot;i went and saw rivers and tide…</td><td>&quot;positive&quot;</td></tr><tr><td>&hellip;</td><td>&hellip;</td></tr><tr><td>&quot;blade is a dark gloomy but sig…</td><td>&quot;positive&quot;</td></tr><tr><td>&quot;there are some things i will n…</td><td>&quot;positive&quot;</td></tr><tr><td>&quot;doa is a nonthrilling thriller…</td><td>&quot;negative&quot;</td></tr><tr><td>&quot;this german documentary in eng…</td><td>&quot;positive&quot;</td></tr><tr><td>&quot;lets get this out of the way s…</td><td>&quot;positive&quot;</td></tr></tbody></table></div>"
      ],
      "text/plain": [
       "shape: (49_582, 2)\n",
       "┌─────────────────────────────────┬───────────┐\n",
       "│ review                          ┆ sentiment │\n",
       "│ ---                             ┆ ---       │\n",
       "│ str                             ┆ str       │\n",
       "╞═════════════════════════════════╪═══════════╡\n",
       "│ this movie is a great film the… ┆ positive  │\n",
       "│ two wildlife photographers are… ┆ negative  │\n",
       "│ low budget films like this jus… ┆ negative  │\n",
       "│ in my case i liked this movie … ┆ positive  │\n",
       "│ i went and saw rivers and tide… ┆ positive  │\n",
       "│ …                               ┆ …         │\n",
       "│ blade is a dark gloomy but sig… ┆ positive  │\n",
       "│ there are some things i will n… ┆ positive  │\n",
       "│ doa is a nonthrilling thriller… ┆ negative  │\n",
       "│ this german documentary in eng… ┆ positive  │\n",
       "│ lets get this out of the way s… ┆ positive  │\n",
       "└─────────────────────────────────┴───────────┘"
      ]
     },
     "execution_count": 28,
     "metadata": {},
     "output_type": "execute_result"
    }
   ],
   "source": [
    "def chat_conversion(text):\n",
    "    new_text = []\n",
    "    for w in text.split():\n",
    "        if w.upper() in chat_words:\n",
    "            new_text.append(chat_words.get(w.upper()))\n",
    "        else:\n",
    "            new_text.append(w)\n",
    "    return \" \".join(new_text)\n",
    "\n",
    "df2 = df2.with_columns([\n",
    "    pl.col('review').map_elements(chat_conversion)\n",
    "])\n",
    "\n",
    "df2"
   ]
  },
  {
   "cell_type": "markdown",
   "id": "f5d9a5c1",
   "metadata": {
    "papermill": {
     "duration": 0.014411,
     "end_time": "2025-04-13T12:52:57.028426",
     "exception": false,
     "start_time": "2025-04-13T12:52:57.014015",
     "status": "completed"
    },
    "tags": []
   },
   "source": [
    "#### 7. Removing Stopwords"
   ]
  },
  {
   "cell_type": "code",
   "execution_count": 29,
   "id": "b3deafe2",
   "metadata": {
    "execution": {
     "iopub.execute_input": "2025-04-13T12:52:57.056912Z",
     "iopub.status.busy": "2025-04-13T12:52:57.056616Z",
     "iopub.status.idle": "2025-04-13T12:52:57.066872Z",
     "shell.execute_reply": "2025-04-13T12:52:57.066080Z"
    },
    "papermill": {
     "duration": 0.025959,
     "end_time": "2025-04-13T12:52:57.068176",
     "exception": false,
     "start_time": "2025-04-13T12:52:57.042217",
     "status": "completed"
    },
    "tags": []
   },
   "outputs": [
    {
     "data": {
      "text/plain": [
       "['didn', \"she'd\", 'further', 'yourself', 'had']"
      ]
     },
     "execution_count": 29,
     "metadata": {},
     "output_type": "execute_result"
    }
   ],
   "source": [
    "from nltk.corpus import stopwords\n",
    "stop_words = stopwords.words('english')\n",
    "\n",
    "import random\n",
    "random.sample(stop_words, k=5)"
   ]
  },
  {
   "cell_type": "markdown",
   "id": "5af59b32",
   "metadata": {
    "papermill": {
     "duration": 0.013235,
     "end_time": "2025-04-13T12:52:57.095287",
     "exception": false,
     "start_time": "2025-04-13T12:52:57.082052",
     "status": "completed"
    },
    "tags": []
   },
   "source": [
    "remvoe stopwords"
   ]
  },
  {
   "cell_type": "code",
   "execution_count": 30,
   "id": "d103956b",
   "metadata": {
    "execution": {
     "iopub.execute_input": "2025-04-13T12:52:57.123860Z",
     "iopub.status.busy": "2025-04-13T12:52:57.123487Z",
     "iopub.status.idle": "2025-04-13T12:53:21.141548Z",
     "shell.execute_reply": "2025-04-13T12:53:21.140692Z"
    },
    "papermill": {
     "duration": 24.034416,
     "end_time": "2025-04-13T12:53:21.143015",
     "exception": false,
     "start_time": "2025-04-13T12:52:57.108599",
     "status": "completed"
    },
    "tags": []
   },
   "outputs": [
    {
     "data": {
      "text/html": [
       "<div><style>\n",
       ".dataframe > thead > tr,\n",
       ".dataframe > tbody > tr {\n",
       "  text-align: right;\n",
       "  white-space: pre-wrap;\n",
       "}\n",
       "</style>\n",
       "<small>shape: (49_582, 2)</small><table border=\"1\" class=\"dataframe\"><thead><tr><th>review</th><th>sentiment</th></tr><tr><td>str</td><td>str</td></tr></thead><tbody><tr><td>&quot; movie   great film  movie sho…</td><td>&quot;positive&quot;</td></tr><tr><td>&quot;two wildlife photographers  tr…</td><td>&quot;negative&quot;</td></tr><tr><td>&quot;low budget films like   give  …</td><td>&quot;negative&quot;</td></tr><tr><td>&quot;  case  liked  movie    saw   …</td><td>&quot;positive&quot;</td></tr><tr><td>&quot; went  saw rivers  tides  toda…</td><td>&quot;positive&quot;</td></tr><tr><td>&hellip;</td><td>&hellip;</td></tr><tr><td>&quot;blade   dark gloomy  significe…</td><td>&quot;positive&quot;</td></tr><tr><td>&quot;   things   never understand  …</td><td>&quot;positive&quot;</td></tr><tr><td>&quot;doa   nonthrilling thriller  d…</td><td>&quot;negative&quot;</td></tr><tr><td>&quot; german documentary  english  …</td><td>&quot;positive&quot;</td></tr><tr><td>&quot;lets get     way   ones checki…</td><td>&quot;positive&quot;</td></tr></tbody></table></div>"
      ],
      "text/plain": [
       "shape: (49_582, 2)\n",
       "┌─────────────────────────────────┬───────────┐\n",
       "│ review                          ┆ sentiment │\n",
       "│ ---                             ┆ ---       │\n",
       "│ str                             ┆ str       │\n",
       "╞═════════════════════════════════╪═══════════╡\n",
       "│  movie   great film  movie sho… ┆ positive  │\n",
       "│ two wildlife photographers  tr… ┆ negative  │\n",
       "│ low budget films like   give  … ┆ negative  │\n",
       "│   case  liked  movie    saw   … ┆ positive  │\n",
       "│  went  saw rivers  tides  toda… ┆ positive  │\n",
       "│ …                               ┆ …         │\n",
       "│ blade   dark gloomy  significe… ┆ positive  │\n",
       "│    things   never understand  … ┆ positive  │\n",
       "│ doa   nonthrilling thriller  d… ┆ negative  │\n",
       "│  german documentary  english  … ┆ positive  │\n",
       "│ lets get     way   ones checki… ┆ positive  │\n",
       "└─────────────────────────────────┴───────────┘"
      ]
     },
     "execution_count": 30,
     "metadata": {},
     "output_type": "execute_result"
    }
   ],
   "source": [
    "def stopwords_removal(text):\n",
    "    new_text = []\n",
    "    for word in text.split():\n",
    "        if word in stop_words:\n",
    "            new_text.append('')\n",
    "        else:\n",
    "            new_text.append(word)\n",
    "    x = new_text[:] # get all items\n",
    "    new_text.clear()\n",
    "    return \" \".join(x)\n",
    "\n",
    "df2 = df2.with_columns(\n",
    "    pl.col('review').map_elements(stopwords_removal)\n",
    ")\n",
    "df2"
   ]
  },
  {
   "cell_type": "markdown",
   "id": "0e736e31",
   "metadata": {
    "papermill": {
     "duration": 0.014367,
     "end_time": "2025-04-13T12:53:21.171624",
     "exception": false,
     "start_time": "2025-04-13T12:53:21.157257",
     "status": "completed"
    },
    "tags": []
   },
   "source": [
    "#### 8. Removing Emojis"
   ]
  },
  {
   "cell_type": "code",
   "execution_count": 31,
   "id": "6ab1466d",
   "metadata": {
    "execution": {
     "iopub.execute_input": "2025-04-13T12:53:21.200975Z",
     "iopub.status.busy": "2025-04-13T12:53:21.200175Z",
     "iopub.status.idle": "2025-04-13T12:53:22.223127Z",
     "shell.execute_reply": "2025-04-13T12:53:22.222224Z"
    },
    "papermill": {
     "duration": 1.039341,
     "end_time": "2025-04-13T12:53:22.224719",
     "exception": false,
     "start_time": "2025-04-13T12:53:21.185378",
     "status": "completed"
    },
    "tags": []
   },
   "outputs": [
    {
     "data": {
      "text/plain": [
       "' damsel  distress  definitely  one  fred astaires better musicals  even astaires bad films always   good momentsin damsel astaire  jerry halliday  american musical star    london   personal appearance tour  meets lady alice marshmorton 19yearold joan fontaine  beautiful english heiress  hops   back   cab   taking  escape  mob  admirersjerry believes  alice   forced   marriage   rich aunt  tries  rescue    familys country manor house  soon discovers   house staff  laying bets   suitor lady alice  marry keggs reginald gardiner  conniving butler  albert harry watson  bratty house boy  take turns alternately helping  sabotaging lady alices romance  jerry  make sure  win  betthis musical  numerous problems first    plot based   novel  pg wodehouse  cowrote  screenplay  story  slow painful  nervegrating  fred   dancing    endure endless annoying scenes   fred romancing joan fontaine  b keggs  albert conniving     otherthe butler   house boy  especially irritating   onedimensional stock villain characters  kind  guys   want  punch   mouth  wish  would get   screen  let fred danceastaire suffers   absence   usual partner ginger rogers joan fontaine   lackluster leading lady   film   miscast   musical   little going   characterwise    lovely face  beautiful smilegeorge burns  gracie allen  along   ride  jerrys publicist   ditzy secretary  duo adds  sorely needed chemistry   plot  gracie   funny lines    also  annoying  timesthe direction   movie  george stevens   well done  times  cinematography  horrible  offfocus    number  outdoor scenes set  extremely foggy streets  try  convince  audience     london  hollywood  must  used tons  dry ice   movie   plus side  songs  george  ira gershwin  terrific   become classic song standards   course  dancing   movie  exceptional thanks  astaire   choreographer hermes panbut  musical  dance numbers  illused  illstaged  times  cast seems  start singing  dancing  well  Tears   eyes    start singing  dancing  musical numbers seem randomly inserted   meandering plot  one point  butler steps outside  manor house  breaks   operetta solo   clear reason  numbers include \\uf0b7 im dancing   cant  bothered  fred dances well   foggy trafficfilled london street    great canetwirling   rolled umbrella   number ends  soon  fred jumps   passing doubledecker bus   broadway musical crazy   harry groener   much better version   number   group  chorus girls\\uf0b7 put    test fred george  gracie   trio tap dance   english cottage george  gracie match fred step  step   number ends poorly  everyone kicking     reason\\uf0b7 stiff upper lip  fun house number   amusement park fun house fred george  gracie  fun dancing   revolving floor rotating barrel    fun house mirrors   best number   movie   gets  little repetitious  times\\uf0b7 things  looking  fred  joan fontaine   one dance number together   film prancing around  back woods   country manor estate fortunately    simple dance number  joan    great dancer\\uf0b7  foggy day  london town fred wanders around  foggy manor estate  night crooning   foggy day   first met joan  london  times  looks   hes  sure  way hes going   fog much like  musical number itself\\uf0b7 nice work    get   great song   misused   movie   social event   manor house fred gets drawn   chorus  dourfaced singers   haphazardly singing  song  Tears   eyes fred joins    singers look      wish  would leave  harry groener   better dance number   song  crazy   \\uf0b7 drum dance number  fred  joan  eloping fred   stop   one final tap dance number  banging  group  drums  usual   great dance number  theres absolutely  need   except  prolong  moviethe  contrived moment   film comes  fred decides  leap   high stone balcony   country estate  order  prove  love  joan fontaine   leaps   balcony  finds  convenientlyplaced trapeze thats right  trapeze hanging   nearby tree fred  rather  stuntman  freds clothes grabs  trapeze  swings   ground  itthe movie  worth owning  dvd   dance numbers alone   feel indebted   guy  invented  fast forward button   remote  ff button allows   skip    boring scenes   film  get   dance numbers'"
      ]
     },
     "execution_count": 31,
     "metadata": {},
     "output_type": "execute_result"
    }
   ],
   "source": [
    "def contains_emoji(text):\n",
    "    return bool(re.search(r\"[\"                                  \n",
    "        u\"\\U0001F600-\\U0001F64F\"  \n",
    "        u\"\\U0001F300-\\U0001F5FF\"  \n",
    "        u\"\\U0001F680-\\U0001F6FF\"  \n",
    "        u\"\\U0001F1E0-\\U0001F1FF\"  \n",
    "        u\"\\U00002702-\\U000027B0\"\n",
    "        u\"\\U000024C2-\\U0001F251\"\n",
    "        \"]\", text))\n",
    "\n",
    "# Step 2: Apply filter and log some samples\n",
    "df_with_emoji = df2.filter(\n",
    "    pl.col(\"review\").map_elements(contains_emoji)\n",
    ")\n",
    "df_with_emoji.item(3, 'review')"
   ]
  },
  {
   "cell_type": "code",
   "execution_count": 32,
   "id": "511fb09f",
   "metadata": {
    "execution": {
     "iopub.execute_input": "2025-04-13T12:53:22.254082Z",
     "iopub.status.busy": "2025-04-13T12:53:22.253777Z",
     "iopub.status.idle": "2025-04-13T12:53:23.626827Z",
     "shell.execute_reply": "2025-04-13T12:53:23.625922Z"
    },
    "papermill": {
     "duration": 1.389242,
     "end_time": "2025-04-13T12:53:23.628301",
     "exception": false,
     "start_time": "2025-04-13T12:53:22.239059",
     "status": "completed"
    },
    "tags": []
   },
   "outputs": [
    {
     "data": {
      "text/html": [
       "<div><style>\n",
       ".dataframe > thead > tr,\n",
       ".dataframe > tbody > tr {\n",
       "  text-align: right;\n",
       "  white-space: pre-wrap;\n",
       "}\n",
       "</style>\n",
       "<small>shape: (49_582, 2)</small><table border=\"1\" class=\"dataframe\"><thead><tr><th>review</th><th>sentiment</th></tr><tr><td>str</td><td>str</td></tr></thead><tbody><tr><td>&quot; movie   great film  movie sho…</td><td>&quot;positive&quot;</td></tr><tr><td>&quot;two wildlife photographers  tr…</td><td>&quot;negative&quot;</td></tr><tr><td>&quot;low budget films like   give  …</td><td>&quot;negative&quot;</td></tr><tr><td>&quot;  case  liked  movie    saw   …</td><td>&quot;positive&quot;</td></tr><tr><td>&quot; went  saw rivers  tides  toda…</td><td>&quot;positive&quot;</td></tr><tr><td>&hellip;</td><td>&hellip;</td></tr><tr><td>&quot;blade   dark gloomy  significe…</td><td>&quot;positive&quot;</td></tr><tr><td>&quot;   things   never understand  …</td><td>&quot;positive&quot;</td></tr><tr><td>&quot;doa   nonthrilling thriller  d…</td><td>&quot;negative&quot;</td></tr><tr><td>&quot; german documentary  english  …</td><td>&quot;positive&quot;</td></tr><tr><td>&quot;lets get     way   ones checki…</td><td>&quot;positive&quot;</td></tr></tbody></table></div>"
      ],
      "text/plain": [
       "shape: (49_582, 2)\n",
       "┌─────────────────────────────────┬───────────┐\n",
       "│ review                          ┆ sentiment │\n",
       "│ ---                             ┆ ---       │\n",
       "│ str                             ┆ str       │\n",
       "╞═════════════════════════════════╪═══════════╡\n",
       "│  movie   great film  movie sho… ┆ positive  │\n",
       "│ two wildlife photographers  tr… ┆ negative  │\n",
       "│ low budget films like   give  … ┆ negative  │\n",
       "│   case  liked  movie    saw   … ┆ positive  │\n",
       "│  went  saw rivers  tides  toda… ┆ positive  │\n",
       "│ …                               ┆ …         │\n",
       "│ blade   dark gloomy  significe… ┆ positive  │\n",
       "│    things   never understand  … ┆ positive  │\n",
       "│ doa   nonthrilling thriller  d… ┆ negative  │\n",
       "│  german documentary  english  … ┆ positive  │\n",
       "│ lets get     way   ones checki… ┆ positive  │\n",
       "└─────────────────────────────────┴───────────┘"
      ]
     },
     "execution_count": 32,
     "metadata": {},
     "output_type": "execute_result"
    }
   ],
   "source": [
    "def remove_emoji(text):\n",
    "    emoji_pattern = re.compile(\"[\"\n",
    "                           u\"\\U0001F600-\\U0001F64F\"  # emoticons\n",
    "                           u\"\\U0001F300-\\U0001F5FF\"  # symbols & pictographs\n",
    "                           u\"\\U0001F680-\\U0001F6FF\"  # transport & map symbols\n",
    "                           u\"\\U0001F1E0-\\U0001F1FF\"  # flags (iOS)\n",
    "                           u\"\\U00002702-\\U000027B0\"\n",
    "                           u\"\\U000024C2-\\U0001F251\"\n",
    "                           \"]+\", flags=re.UNICODE)\n",
    "    return emoji_pattern.sub(r'', text)\n",
    "df2 = df2.with_columns(\n",
    "    pl.col('review').map_elements(remove_emoji)\n",
    ")\n",
    "df2"
   ]
  },
  {
   "cell_type": "markdown",
   "id": "d77e5b17",
   "metadata": {
    "papermill": {
     "duration": 0.01469,
     "end_time": "2025-04-13T12:53:23.664880",
     "exception": false,
     "start_time": "2025-04-13T12:53:23.650190",
     "status": "completed"
    },
    "tags": []
   },
   "source": [
    "#### 9.Remove contractions"
   ]
  },
  {
   "cell_type": "code",
   "execution_count": 33,
   "id": "63e88cb1",
   "metadata": {
    "execution": {
     "iopub.execute_input": "2025-04-13T12:53:23.694880Z",
     "iopub.status.busy": "2025-04-13T12:53:23.693881Z",
     "iopub.status.idle": "2025-04-13T12:53:23.700201Z",
     "shell.execute_reply": "2025-04-13T12:53:23.699420Z"
    },
    "papermill": {
     "duration": 0.022654,
     "end_time": "2025-04-13T12:53:23.701648",
     "exception": false,
     "start_time": "2025-04-13T12:53:23.678994",
     "status": "completed"
    },
    "tags": []
   },
   "outputs": [
    {
     "data": {
      "text/plain": [
       "'I cannot do this. It is not right.'"
      ]
     },
     "execution_count": 33,
     "metadata": {},
     "output_type": "execute_result"
    }
   ],
   "source": [
    "import contractions\n",
    "contractions.fix(\"I can't do this. It's not right.\")"
   ]
  },
  {
   "cell_type": "code",
   "execution_count": 34,
   "id": "a57aac28",
   "metadata": {
    "execution": {
     "iopub.execute_input": "2025-04-13T12:53:23.731149Z",
     "iopub.status.busy": "2025-04-13T12:53:23.730721Z",
     "iopub.status.idle": "2025-04-13T12:53:26.562261Z",
     "shell.execute_reply": "2025-04-13T12:53:26.561313Z"
    },
    "papermill": {
     "duration": 2.848206,
     "end_time": "2025-04-13T12:53:26.564032",
     "exception": false,
     "start_time": "2025-04-13T12:53:23.715826",
     "status": "completed"
    },
    "tags": []
   },
   "outputs": [
    {
     "data": {
      "text/html": [
       "<div><style>\n",
       ".dataframe > thead > tr,\n",
       ".dataframe > tbody > tr {\n",
       "  text-align: right;\n",
       "  white-space: pre-wrap;\n",
       "}\n",
       "</style>\n",
       "<small>shape: (49_582, 2)</small><table border=\"1\" class=\"dataframe\"><thead><tr><th>review</th><th>sentiment</th></tr><tr><td>str</td><td>str</td></tr></thead><tbody><tr><td>&quot; movie   great film  movie sho…</td><td>&quot;positive&quot;</td></tr><tr><td>&quot;two wildlife photographers  tr…</td><td>&quot;negative&quot;</td></tr><tr><td>&quot;low budget films like   give  …</td><td>&quot;negative&quot;</td></tr><tr><td>&quot;  case  liked  movie    saw   …</td><td>&quot;positive&quot;</td></tr><tr><td>&quot; went  saw rivers  tides  toda…</td><td>&quot;positive&quot;</td></tr><tr><td>&hellip;</td><td>&hellip;</td></tr><tr><td>&quot;blade   dark gloomy  significe…</td><td>&quot;positive&quot;</td></tr><tr><td>&quot;   things   never understand  …</td><td>&quot;positive&quot;</td></tr><tr><td>&quot;doa   nonthrilling thriller  d…</td><td>&quot;negative&quot;</td></tr><tr><td>&quot; german documentary  english  …</td><td>&quot;positive&quot;</td></tr><tr><td>&quot;let us get     way   ones chec…</td><td>&quot;positive&quot;</td></tr></tbody></table></div>"
      ],
      "text/plain": [
       "shape: (49_582, 2)\n",
       "┌─────────────────────────────────┬───────────┐\n",
       "│ review                          ┆ sentiment │\n",
       "│ ---                             ┆ ---       │\n",
       "│ str                             ┆ str       │\n",
       "╞═════════════════════════════════╪═══════════╡\n",
       "│  movie   great film  movie sho… ┆ positive  │\n",
       "│ two wildlife photographers  tr… ┆ negative  │\n",
       "│ low budget films like   give  … ┆ negative  │\n",
       "│   case  liked  movie    saw   … ┆ positive  │\n",
       "│  went  saw rivers  tides  toda… ┆ positive  │\n",
       "│ …                               ┆ …         │\n",
       "│ blade   dark gloomy  significe… ┆ positive  │\n",
       "│    things   never understand  … ┆ positive  │\n",
       "│ doa   nonthrilling thriller  d… ┆ negative  │\n",
       "│  german documentary  english  … ┆ positive  │\n",
       "│ let us get     way   ones chec… ┆ positive  │\n",
       "└─────────────────────────────────┴───────────┘"
      ]
     },
     "execution_count": 34,
     "metadata": {},
     "output_type": "execute_result"
    }
   ],
   "source": [
    "def expand_contractions(text):\n",
    "    expanded_text = contractions.fix(text)\n",
    "    return expanded_text\n",
    "\n",
    "df2 = df2.with_columns([\n",
    "    pl.col('review').map_elements(expand_contractions)\n",
    "])\n",
    "df2"
   ]
  },
  {
   "cell_type": "markdown",
   "id": "3499a853",
   "metadata": {
    "papermill": {
     "duration": 0.01399,
     "end_time": "2025-04-13T12:53:26.593171",
     "exception": false,
     "start_time": "2025-04-13T12:53:26.579181",
     "status": "completed"
    },
    "tags": []
   },
   "source": [
    "#### 10. Lemmatize"
   ]
  },
  {
   "cell_type": "code",
   "execution_count": 35,
   "id": "8805104f",
   "metadata": {
    "collapsed": true,
    "execution": {
     "iopub.execute_input": "2025-04-13T12:53:26.623426Z",
     "iopub.status.busy": "2025-04-13T12:53:26.622659Z",
     "iopub.status.idle": "2025-04-13T12:53:27.590258Z",
     "shell.execute_reply": "2025-04-13T12:53:27.588583Z"
    },
    "jupyter": {
     "outputs_hidden": true
    },
    "papermill": {
     "duration": 0.985586,
     "end_time": "2025-04-13T12:53:27.593027",
     "exception": false,
     "start_time": "2025-04-13T12:53:26.607441",
     "status": "completed"
    },
    "tags": []
   },
   "outputs": [
    {
     "name": "stdout",
     "output_type": "stream",
     "text": [
      "this: this\n",
      "german: german\n",
      "documentary: documentary\n",
      "in: in\n",
      "english: english\n",
      "is: be\n",
      "about: about\n",
      "a: a\n",
      "scottish: scottish\n",
      "environmental: environmental\n",
      "sculptor: sculptor\n",
      "named: name\n",
      "andy: andy\n",
      "goldsworthy: goldsworthy\n",
      "he: he\n",
      "makes: make\n",
      "art: art\n",
      "from: from\n",
      "objects: object\n",
      "he: he\n",
      "finds: find\n",
      "in: in\n",
      "nature: nature\n",
      "for: for\n",
      "example: example\n",
      "early: early\n",
      "in: in\n",
      "the: the\n",
      "film: film\n",
      "we: we\n",
      "see: see\n",
      "him: he\n",
      "taking: take\n",
      "sections: section\n",
      "of: of\n",
      "icicles: icicle\n",
      "and: and\n",
      "gluing: glue\n",
      "them: they\n",
      "together: together\n",
      "with: with\n",
      "a: a\n",
      "little: little\n",
      "moisture: moisture\n",
      "into: into\n",
      "a: a\n",
      "serpentine: serpentine\n",
      "shape: shape\n",
      "that: that\n",
      "seems: seem\n",
      "to: to\n",
      "repeatedly: repeatedly\n",
      "go: go\n",
      "through: through\n",
      "a: a\n",
      "vertical: vertical\n",
      "rockof: rockof\n",
      "course: course\n",
      "the: the\n",
      "icicles: icicle\n",
      "melt: melt\n",
      "but: but\n",
      "that: that\n",
      "transience: transience\n",
      "is: be\n",
      "a: a\n",
      "part: part\n",
      "of: of\n",
      "most: most\n",
      "of: of\n",
      "goldsworthys: goldsworthys\n",
      "work: work\n",
      "he: he\n",
      "goes: go\n",
      "to: to\n",
      "a: a\n",
      "site: site\n",
      "and: and\n",
      "gets: get\n",
      "a: a\n",
      "feeling: feeling\n",
      "for: for\n",
      "it: it\n",
      "deciding: decide\n",
      "intuitively: intuitively\n",
      "what: what\n",
      "to: to\n",
      "make: make\n",
      "that: that\n",
      "day: day\n",
      "he: he\n",
      "talks: talk\n",
      "of: of\n",
      "having: have\n",
      "a: a\n",
      "dialog: dialog\n",
      "with: with\n",
      "the: the\n",
      "rocks: rock\n",
      "and: and\n",
      "other: other\n",
      "materials: material\n",
      "that: that\n",
      "he: he\n",
      "works: work\n",
      "with: with\n",
      "attempting: attempt\n",
      "to: to\n",
      "work: work\n",
      "with: with\n",
      "rather: rather\n",
      "than: than\n",
      "against: against\n",
      "them: they\n",
      "it: it\n",
      "might: might\n",
      "be: be\n",
      "stones: stone\n",
      "or: or\n",
      "flowers: flower\n",
      "or: or\n",
      "leaves: leave\n",
      "or: or\n",
      "sticks: stick\n",
      "the: the\n",
      "sculpture: sculpture\n",
      "might: might\n",
      "last: last\n",
      "for: for\n",
      "minutes: minute\n",
      "or: or\n",
      "years: year\n",
      "or: or\n",
      "might: might\n",
      "not: not\n",
      "even: even\n",
      "last: last\n",
      "long: long\n",
      "enough: enough\n",
      "to: to\n",
      "be: be\n",
      "completed: complete\n",
      "and: and\n",
      "photographed: photograph\n",
      "the: the\n",
      "work: work\n",
      "seems: seem\n",
      "to: to\n",
      "be: be\n",
      "more: more\n",
      "of: of\n",
      "a: a\n",
      "process: process\n",
      "than: than\n",
      "a: a\n",
      "goalthe: goalthe\n",
      "film: film\n",
      "and: and\n",
      "the: the\n",
      "work: work\n",
      "is: be\n",
      "beautiful: beautiful\n",
      "inspiring: inspiring\n",
      "and: and\n",
      "thought: think\n",
      "provoking: provoke\n",
      "it: it\n",
      "moves: move\n",
      "pretty: pretty\n",
      "slowly: slowly\n",
      "which: which\n",
      "is: be\n",
      "appropriate: appropriate\n",
      "for: for\n",
      "the: the\n",
      "material: material\n",
      "but: but\n",
      "you: you\n",
      "should: should\n",
      "be: be\n",
      "sure: sure\n",
      "to: to\n",
      "go: go\n",
      "when: when\n",
      "you: you\n",
      "have: have\n",
      "had: have\n",
      "a: a\n",
      "good: good\n",
      "nights: night\n",
      "sleep: sleep\n",
      "but: but\n",
      "do: do\n",
      "go: go\n",
      "if: if\n",
      "you: you\n",
      "have: have\n",
      "the: the\n",
      "opportunitysearch: opportunitysearch\n",
      "the: the\n",
      "web: web\n",
      "for: for\n",
      "some: some\n",
      "other: other\n",
      "pages: page\n",
      "about: about\n",
      "andy: andy\n",
      "goldsworthy: goldsworthy\n",
      "or: or\n",
      "to: to\n",
      "read: read\n",
      "about: about\n",
      "his: his\n",
      "local: local\n",
      "sculpture: sculpture\n",
      "at: at\n",
      "stanford: stanford\n",
      "university: university\n",
      "there: there\n",
      "are: be\n",
      "also: also\n",
      "several: several\n",
      "books: book\n",
      "available: available\n",
      "with: with\n",
      "photographs: photograph\n",
      "of: of\n",
      "his: his\n",
      "sculpturesmy: sculpturesmy\n",
      "thoughts: thought\n",
      "skip: skip\n",
      "reading: reading\n",
      "this: this\n",
      "part: part\n",
      "if: if\n",
      "you: you\n",
      "want: want\n",
      "to: to\n",
      "find: find\n",
      "what: what\n",
      "this: this\n",
      "film: film\n",
      "means: mean\n",
      "to: to\n",
      "you: you\n",
      "completely: completely\n",
      "independently: independently\n",
      "i: I\n",
      "recall: recall\n",
      "a: a\n",
      "couple: couple\n",
      "of: of\n",
      "ideas: idea\n",
      "that: that\n",
      "occurred: occur\n",
      "to: to\n",
      "me: I\n",
      "while: while\n",
      "watching: watch\n",
      "the: the\n",
      "film: film\n",
      "which: which\n",
      "i: I\n",
      "thought: think\n",
      "i: I\n",
      "would: would\n",
      "share: share\n",
      "for: for\n",
      "those: those\n",
      "of: of\n",
      "you: you\n",
      "still: still\n",
      "reading: read\n",
      "first: first\n",
      "the: the\n",
      "transitory: transitory\n",
      "nature: nature\n",
      "of: of\n",
      "much: much\n",
      "of: of\n",
      "andy: andy\n",
      "goldsworthys: goldsworthys\n",
      "work: work\n",
      "reminded: remind\n",
      "me: I\n",
      "of: of\n",
      "the: the\n",
      "natural: natural\n",
      "ebb: ebb\n",
      "and: and\n",
      "flow: flow\n",
      "of: of\n",
      "human: human\n",
      "life: life\n",
      "were: be\n",
      "born: bear\n",
      "we: we\n",
      "live: live\n",
      "and: and\n",
      "eventually: eventually\n",
      "we: we\n",
      "die: die\n",
      "that: that\n",
      "s: s\n",
      "natural: natural\n",
      "and: and\n",
      "that: that\n",
      "s: s\n",
      "also: also\n",
      "naturally: naturally\n",
      "a: a\n",
      "part: part\n",
      "of: of\n",
      "goldsworthys: goldsworthys\n",
      "artthe: artthe\n",
      "other: other\n",
      "thought: thought\n",
      "was: be\n",
      "to: to\n",
      "be: be\n",
      "awestruck: awestruck\n",
      "with: with\n",
      "the: the\n",
      "way: way\n",
      "that: that\n",
      "goldsworthy: goldsworthy\n",
      "has: have\n",
      "managed: manage\n",
      "to: to\n",
      "integrate: integrate\n",
      "his: his\n",
      "passion: passion\n",
      "and: and\n",
      "his: his\n",
      "work: work\n",
      "so: so\n",
      "thoroughly: thoroughly\n",
      "into: into\n",
      "his: his\n",
      "life: life\n",
      "most: most\n",
      "of: of\n",
      "us: we\n",
      "have: have\n",
      "work: work\n",
      "which: which\n",
      "is: be\n",
      "tolerated: tolerate\n",
      "at: at\n",
      "best: good\n",
      "a: a\n",
      "life: life\n",
      "which: which\n",
      "we: we\n",
      "hardly: hardly\n",
      "notice: notice\n",
      "living: living\n",
      "and: and\n",
      "passions: passion\n",
      "which: which\n",
      "we: we\n",
      "really: really\n",
      "mean: mean\n",
      "to: to\n",
      "spend: spend\n",
      "more: more\n",
      "time: time\n",
      "on: on\n",
      "if: if\n",
      "we: we\n",
      "even: even\n",
      "remember: remember\n",
      "what: what\n",
      "they: they\n",
      "are: be\n",
      "andy: andy\n",
      "goldsworthy: goldsworthy\n",
      "has: have\n",
      "managed: manage\n",
      "to: to\n",
      "create: create\n",
      "an: an\n",
      "amalgam: amalgam\n",
      "of: of\n",
      "all: all\n",
      "of: of\n",
      "these: these\n",
      "aspects: aspect\n",
      "of: of\n",
      "his: his\n",
      "life: life\n",
      "that: that\n",
      "looks: look\n",
      "like: like\n",
      "it: it\n",
      "works: work\n",
      "very: very\n",
      "well: well\n",
      "and: and\n",
      "is: be\n",
      "nourishing: nourish\n",
      "for: for\n",
      "him: he\n",
      "and: and\n",
      "those: those\n",
      "around: around\n",
      "him: he\n",
      "wowseen: wowseen\n",
      "on: on\n",
      "8282002: 8282002\n"
     ]
    }
   ],
   "source": [
    "nlp = spacy.load(\"en_core_web_sm\")\n",
    "doc = nlp(text)\n",
    "\n",
    "for token in doc:\n",
    "    print(token, token.lemma_, sep=': ')"
   ]
  },
  {
   "cell_type": "code",
   "execution_count": 36,
   "id": "f62057d4",
   "metadata": {
    "execution": {
     "iopub.execute_input": "2025-04-13T12:53:27.624041Z",
     "iopub.status.busy": "2025-04-13T12:53:27.623746Z",
     "iopub.status.idle": "2025-04-13T13:21:38.483532Z",
     "shell.execute_reply": "2025-04-13T13:21:38.482605Z"
    },
    "papermill": {
     "duration": 1690.877368,
     "end_time": "2025-04-13T13:21:38.485435",
     "exception": false,
     "start_time": "2025-04-13T12:53:27.608067",
     "status": "completed"
    },
    "tags": []
   },
   "outputs": [],
   "source": [
    "nlp = spacy.load(\"en_core_web_sm\")\n",
    "def lemmatize_text(text):\n",
    "    doc = nlp(text)\n",
    "    lemmatize_text = ' '.join([token.lemma_ for token in doc])\n",
    "    return lemmatize_text\n",
    "def lemmatize_review(df):\n",
    "    df = df.with_columns([\n",
    "        pl.col('review').map_elements(lemmatize_text)\n",
    "    ])\n",
    "    return df\n",
    "\n",
    "df2 = lemmatize_review(df2)\n"
   ]
  },
  {
   "cell_type": "code",
   "execution_count": 37,
   "id": "a33a3550",
   "metadata": {
    "execution": {
     "iopub.execute_input": "2025-04-13T13:21:38.517222Z",
     "iopub.status.busy": "2025-04-13T13:21:38.516921Z",
     "iopub.status.idle": "2025-04-13T13:21:38.523361Z",
     "shell.execute_reply": "2025-04-13T13:21:38.522491Z"
    },
    "papermill": {
     "duration": 0.023645,
     "end_time": "2025-04-13T13:21:38.524859",
     "exception": false,
     "start_time": "2025-04-13T13:21:38.501214",
     "status": "completed"
    },
    "tags": []
   },
   "outputs": [
    {
     "data": {
      "text/html": [
       "<div><style>\n",
       ".dataframe > thead > tr,\n",
       ".dataframe > tbody > tr {\n",
       "  text-align: right;\n",
       "  white-space: pre-wrap;\n",
       "}\n",
       "</style>\n",
       "<small>shape: (49_582, 2)</small><table border=\"1\" class=\"dataframe\"><thead><tr><th>review</th><th>sentiment</th></tr><tr><td>str</td><td>str</td></tr></thead><tbody><tr><td>&quot;  movie    great film   movie …</td><td>&quot;positive&quot;</td></tr><tr><td>&quot;two wildlife photographer   tr…</td><td>&quot;negative&quot;</td></tr><tr><td>&quot;low budget film like    give  …</td><td>&quot;negative&quot;</td></tr><tr><td>&quot;   case   like   movie     saw…</td><td>&quot;positive&quot;</td></tr><tr><td>&quot;  go   see river   tide   toda…</td><td>&quot;positive&quot;</td></tr><tr><td>&hellip;</td><td>&hellip;</td></tr><tr><td>&quot;blade    dark gloomy   signifi…</td><td>&quot;positive&quot;</td></tr><tr><td>&quot;    thing    never understand …</td><td>&quot;positive&quot;</td></tr><tr><td>&quot;doa    nonthrille thriller   d…</td><td>&quot;negative&quot;</td></tr><tr><td>&quot;  german documentary   english…</td><td>&quot;positive&quot;</td></tr><tr><td>&quot;let we get      way    one che…</td><td>&quot;positive&quot;</td></tr></tbody></table></div>"
      ],
      "text/plain": [
       "shape: (49_582, 2)\n",
       "┌─────────────────────────────────┬───────────┐\n",
       "│ review                          ┆ sentiment │\n",
       "│ ---                             ┆ ---       │\n",
       "│ str                             ┆ str       │\n",
       "╞═════════════════════════════════╪═══════════╡\n",
       "│   movie    great film   movie … ┆ positive  │\n",
       "│ two wildlife photographer   tr… ┆ negative  │\n",
       "│ low budget film like    give  … ┆ negative  │\n",
       "│    case   like   movie     saw… ┆ positive  │\n",
       "│   go   see river   tide   toda… ┆ positive  │\n",
       "│ …                               ┆ …         │\n",
       "│ blade    dark gloomy   signifi… ┆ positive  │\n",
       "│     thing    never understand … ┆ positive  │\n",
       "│ doa    nonthrille thriller   d… ┆ negative  │\n",
       "│   german documentary   english… ┆ positive  │\n",
       "│ let we get      way    one che… ┆ positive  │\n",
       "└─────────────────────────────────┴───────────┘"
      ]
     },
     "execution_count": 37,
     "metadata": {},
     "output_type": "execute_result"
    }
   ],
   "source": [
    "df2"
   ]
  },
  {
   "cell_type": "markdown",
   "id": "ab473036",
   "metadata": {
    "papermill": {
     "duration": 0.014645,
     "end_time": "2025-04-13T13:21:38.554530",
     "exception": false,
     "start_time": "2025-04-13T13:21:38.539885",
     "status": "completed"
    },
    "tags": []
   },
   "source": [
    "#### 11. Tokenize the text"
   ]
  },
  {
   "cell_type": "code",
   "execution_count": 38,
   "id": "ce73e7a6",
   "metadata": {
    "execution": {
     "iopub.execute_input": "2025-04-13T13:21:38.585226Z",
     "iopub.status.busy": "2025-04-13T13:21:38.584955Z",
     "iopub.status.idle": "2025-04-13T13:21:38.673322Z",
     "shell.execute_reply": "2025-04-13T13:21:38.672348Z"
    },
    "papermill": {
     "duration": 0.105527,
     "end_time": "2025-04-13T13:21:38.674818",
     "exception": false,
     "start_time": "2025-04-13T13:21:38.569291",
     "status": "completed"
    },
    "tags": []
   },
   "outputs": [
    {
     "name": "stdout",
     "output_type": "stream",
     "text": [
      "['He', 'bought', '2', 'apples', ',', '3', 'bananas', ',', 'and', '1', 'mango', '.']\n"
     ]
    },
    {
     "name": "stderr",
     "output_type": "stream",
     "text": [
      "[nltk_data] Downloading package punkt to /usr/share/nltk_data...\n",
      "[nltk_data]   Package punkt is already up-to-date!\n"
     ]
    }
   ],
   "source": [
    "import nltk\n",
    "nltk.download('punkt')\n",
    "\n",
    "from nltk.tokenize import word_tokenize\n",
    "text = \"He bought 2 apples, 3 bananas, and 1 mango.\"\n",
    "tokens = word_tokenize(text)\n",
    "print(tokens)"
   ]
  },
  {
   "cell_type": "code",
   "execution_count": 39,
   "id": "348683c8",
   "metadata": {
    "execution": {
     "iopub.execute_input": "2025-04-13T13:21:38.706306Z",
     "iopub.status.busy": "2025-04-13T13:21:38.705619Z",
     "iopub.status.idle": "2025-04-13T13:22:03.288228Z",
     "shell.execute_reply": "2025-04-13T13:22:03.287256Z"
    },
    "papermill": {
     "duration": 24.600044,
     "end_time": "2025-04-13T13:22:03.289851",
     "exception": false,
     "start_time": "2025-04-13T13:21:38.689807",
     "status": "completed"
    },
    "tags": []
   },
   "outputs": [
    {
     "data": {
      "text/html": [
       "<div><style>\n",
       ".dataframe > thead > tr,\n",
       ".dataframe > tbody > tr {\n",
       "  text-align: right;\n",
       "  white-space: pre-wrap;\n",
       "}\n",
       "</style>\n",
       "<small>shape: (49_582, 2)</small><table border=\"1\" class=\"dataframe\"><thead><tr><th>review</th><th>sentiment</th></tr><tr><td>list[str]</td><td>str</td></tr></thead><tbody><tr><td>[&quot;movie&quot;, &quot;great&quot;, … &quot;lesson&quot;]</td><td>&quot;positive&quot;</td></tr><tr><td>[&quot;two&quot;, &quot;wildlife&quot;, … &quot;would&quot;]</td><td>&quot;negative&quot;</td></tr><tr><td>[&quot;low&quot;, &quot;budget&quot;, … &quot;plague&quot;]</td><td>&quot;negative&quot;</td></tr><tr><td>[&quot;case&quot;, &quot;like&quot;, … &quot;thank&quot;]</td><td>&quot;positive&quot;</td></tr><tr><td>[&quot;go&quot;, &quot;see&quot;, … &quot;tide&quot;]</td><td>&quot;positive&quot;</td></tr><tr><td>&hellip;</td><td>&hellip;</td></tr><tr><td>[&quot;blade&quot;, &quot;dark&quot;, … &quot;viewing87&quot;]</td><td>&quot;positive&quot;</td></tr><tr><td>[&quot;thing&quot;, &quot;never&quot;, … &quot;laughter&quot;]</td><td>&quot;positive&quot;</td></tr><tr><td>[&quot;doa&quot;, &quot;nonthrille&quot;, … &quot;age&quot;]</td><td>&quot;negative&quot;</td></tr><tr><td>[&quot;german&quot;, &quot;documentary&quot;, … &quot;8282002&quot;]</td><td>&quot;positive&quot;</td></tr><tr><td>[&quot;let&quot;, &quot;we&quot;, … &quot;intention&quot;]</td><td>&quot;positive&quot;</td></tr></tbody></table></div>"
      ],
      "text/plain": [
       "shape: (49_582, 2)\n",
       "┌─────────────────────────────────┬───────────┐\n",
       "│ review                          ┆ sentiment │\n",
       "│ ---                             ┆ ---       │\n",
       "│ list[str]                       ┆ str       │\n",
       "╞═════════════════════════════════╪═══════════╡\n",
       "│ [\"movie\", \"great\", … \"lesson\"]  ┆ positive  │\n",
       "│ [\"two\", \"wildlife\", … \"would\"]  ┆ negative  │\n",
       "│ [\"low\", \"budget\", … \"plague\"]   ┆ negative  │\n",
       "│ [\"case\", \"like\", … \"thank\"]     ┆ positive  │\n",
       "│ [\"go\", \"see\", … \"tide\"]         ┆ positive  │\n",
       "│ …                               ┆ …         │\n",
       "│ [\"blade\", \"dark\", … \"viewing87… ┆ positive  │\n",
       "│ [\"thing\", \"never\", … \"laughter… ┆ positive  │\n",
       "│ [\"doa\", \"nonthrille\", … \"age\"]  ┆ negative  │\n",
       "│ [\"german\", \"documentary\", … \"8… ┆ positive  │\n",
       "│ [\"let\", \"we\", … \"intention\"]    ┆ positive  │\n",
       "└─────────────────────────────────┴───────────┘"
      ]
     },
     "execution_count": 39,
     "metadata": {},
     "output_type": "execute_result"
    }
   ],
   "source": [
    "def tokenize(text):\n",
    "    token_words = word_tokenize(text)\n",
    "    return token_words\n",
    "\n",
    "df2 = df2.with_columns([\n",
    "    pl.col('review').map_elements(tokenize)\n",
    "])\n",
    "df2"
   ]
  },
  {
   "cell_type": "markdown",
   "id": "3d518f51",
   "metadata": {
    "papermill": {
     "duration": 0.01528,
     "end_time": "2025-04-13T13:22:03.320562",
     "exception": false,
     "start_time": "2025-04-13T13:22:03.305282",
     "status": "completed"
    },
    "tags": []
   },
   "source": [
    "# <div style=\"background-color: aliceblue; font-family: san-serif, arial; text-align: center; border-radius: 25px;\">Splitting dataset</div>"
   ]
  },
  {
   "cell_type": "code",
   "execution_count": 40,
   "id": "7418cc27",
   "metadata": {
    "execution": {
     "iopub.execute_input": "2025-04-13T13:22:03.352778Z",
     "iopub.status.busy": "2025-04-13T13:22:03.351896Z",
     "iopub.status.idle": "2025-04-13T13:22:03.359186Z",
     "shell.execute_reply": "2025-04-13T13:22:03.358156Z"
    },
    "papermill": {
     "duration": 0.024794,
     "end_time": "2025-04-13T13:22:03.360743",
     "exception": false,
     "start_time": "2025-04-13T13:22:03.335949",
     "status": "completed"
    },
    "tags": []
   },
   "outputs": [
    {
     "name": "stdout",
     "output_type": "stream",
     "text": [
      "(49582,) (49582,)\n",
      "shape: (5,)\n",
      "Series: 'review' [list[str]]\n",
      "[\n",
      "\t[\"movie\", \"great\", … \"lesson\"]\n",
      "\t[\"two\", \"wildlife\", … \"would\"]\n",
      "\t[\"low\", \"budget\", … \"plague\"]\n",
      "\t[\"case\", \"like\", … \"thank\"]\n",
      "\t[\"go\", \"see\", … \"tide\"]\n",
      "]\n",
      "shape: (5,)\n",
      "Series: 'sentiment' [str]\n",
      "[\n",
      "\t\"positive\"\n",
      "\t\"negative\"\n",
      "\t\"negative\"\n",
      "\t\"positive\"\n",
      "\t\"positive\"\n",
      "]\n"
     ]
    }
   ],
   "source": [
    "X = df2['review']\n",
    "y = df2['sentiment']\n",
    "print(X.shape, y.shape)\n",
    "print(X[:5])\n",
    "print(y[:5])"
   ]
  },
  {
   "cell_type": "code",
   "execution_count": 41,
   "id": "e5748f41",
   "metadata": {
    "execution": {
     "iopub.execute_input": "2025-04-13T13:22:03.393069Z",
     "iopub.status.busy": "2025-04-13T13:22:03.392799Z",
     "iopub.status.idle": "2025-04-13T13:22:03.435705Z",
     "shell.execute_reply": "2025-04-13T13:22:03.434965Z"
    },
    "papermill": {
     "duration": 0.060815,
     "end_time": "2025-04-13T13:22:03.436967",
     "exception": false,
     "start_time": "2025-04-13T13:22:03.376152",
     "status": "completed"
    },
    "tags": []
   },
   "outputs": [
    {
     "name": "stdout",
     "output_type": "stream",
     "text": [
      "[1 0 0 1 1]\n"
     ]
    },
    {
     "data": {
      "text/plain": [
       "49582"
      ]
     },
     "execution_count": 41,
     "metadata": {},
     "output_type": "execute_result"
    }
   ],
   "source": [
    "from sklearn.preprocessing import LabelEncoder\n",
    "encoder = LabelEncoder()\n",
    "transformed_y = encoder.fit_transform(y)\n",
    "print(transformed_y[:5])\n",
    "X.shape[0]"
   ]
  },
  {
   "cell_type": "code",
   "execution_count": 42,
   "id": "61c52ca1",
   "metadata": {
    "execution": {
     "iopub.execute_input": "2025-04-13T13:22:03.469392Z",
     "iopub.status.busy": "2025-04-13T13:22:03.469114Z",
     "iopub.status.idle": "2025-04-13T13:22:03.631301Z",
     "shell.execute_reply": "2025-04-13T13:22:03.630031Z"
    },
    "papermill": {
     "duration": 0.180282,
     "end_time": "2025-04-13T13:22:03.633127",
     "exception": false,
     "start_time": "2025-04-13T13:22:03.452845",
     "status": "completed"
    },
    "tags": []
   },
   "outputs": [
    {
     "name": "stdout",
     "output_type": "stream",
     "text": [
      "X train shape = (39666,)\n",
      "y train shape = (39666,)\n",
      "X test shape = (9916,)\n",
      "y test shape = (9916,)\n"
     ]
    }
   ],
   "source": [
    "from sklearn.model_selection import train_test_split\n",
    "\n",
    "def my_train_and_test_split(X, y, test_size=0.2):\n",
    "    \"\"\"\n",
    "    Args: X and y are polars series\n",
    "    \"\"\"\n",
    "    num_test_samples = int(test_size * X.shape[0])\n",
    "    # num_train_samples = X.height - num_test_samples\n",
    "    indices = np.random.permutation(X.shape[0])\n",
    "    \n",
    "    X_test, y_test = X[indices[:num_test_samples]], y[indices[:num_test_samples]]\n",
    "    X_train, y_train = X[indices[num_test_samples:]], y[indices[num_test_samples:]]\n",
    "\n",
    "    return X_train, X_test, y_train, y_test\n",
    "X_train, X_test, y_train, y_test = my_train_and_test_split(X, transformed_y, test_size=0.2)\n",
    "print(f\"X train shape = {X_train.shape}\")\n",
    "print(f\"y train shape = {y_train.shape}\")\n",
    "print(f\"X test shape = {X_test.shape}\")\n",
    "print(f\"y test shape = {y_test.shape}\")"
   ]
  },
  {
   "cell_type": "code",
   "execution_count": 43,
   "id": "5857838a",
   "metadata": {
    "execution": {
     "iopub.execute_input": "2025-04-13T13:22:03.673857Z",
     "iopub.status.busy": "2025-04-13T13:22:03.673492Z",
     "iopub.status.idle": "2025-04-13T13:22:03.679157Z",
     "shell.execute_reply": "2025-04-13T13:22:03.678470Z"
    },
    "papermill": {
     "duration": 0.02366,
     "end_time": "2025-04-13T13:22:03.680627",
     "exception": false,
     "start_time": "2025-04-13T13:22:03.656967",
     "status": "completed"
    },
    "tags": []
   },
   "outputs": [
    {
     "data": {
      "text/html": [
       "<div><style>\n",
       ".dataframe > thead > tr,\n",
       ".dataframe > tbody > tr {\n",
       "  text-align: right;\n",
       "  white-space: pre-wrap;\n",
       "}\n",
       "</style>\n",
       "<small>shape: (39_666,)</small><table border=\"1\" class=\"dataframe\"><thead><tr><th>review</th></tr><tr><td>list[str]</td></tr></thead><tbody><tr><td>[&quot;summarize&quot;, &quot;movie&quot;, … &quot;2&quot;]</td></tr><tr><td>[&quot;can&quot;, &quot;not&quot;, … &quot;skill&quot;]</td></tr><tr><td>[&quot;dreadful&quot;, &quot;film&quot;, … &quot;downhill&quot;]</td></tr><tr><td>[&quot;usually&quot;, &quot;do&quot;, … &quot;show&quot;]</td></tr><tr><td>[&quot;first&quot;, &quot;get&quot;, … &quot;entertainment&quot;]</td></tr><tr><td>&hellip;</td></tr><tr><td>[&quot;I&quot;, &quot;be&quot;, … &quot;trueshelly&quot;]</td></tr><tr><td>[&quot;parent&quot;, &quot;take&quot;, … &quot;video&quot;]</td></tr><tr><td>[&quot;1969&quot;, &quot;year&quot;, … &quot;eye&quot;]</td></tr><tr><td>[&quot;sweeping&quot;, &quot;drama&quot;, … &quot;optional&quot;]</td></tr><tr><td>[&quot;comic&quot;, &quot;modesty&quot;, … &quot;tomorrow&quot;]</td></tr></tbody></table></div>"
      ],
      "text/plain": [
       "shape: (39_666,)\n",
       "Series: 'review' [list[str]]\n",
       "[\n",
       "\t[\"summarize\", \"movie\", … \"2\"]\n",
       "\t[\"can\", \"not\", … \"skill\"]\n",
       "\t[\"dreadful\", \"film\", … \"downhill\"]\n",
       "\t[\"usually\", \"do\", … \"show\"]\n",
       "\t[\"first\", \"get\", … \"entertainment\"]\n",
       "\t…\n",
       "\t[\"I\", \"be\", … \"trueshelly\"]\n",
       "\t[\"parent\", \"take\", … \"video\"]\n",
       "\t[\"1969\", \"year\", … \"eye\"]\n",
       "\t[\"sweeping\", \"drama\", … \"optional\"]\n",
       "\t[\"comic\", \"modesty\", … \"tomorrow\"]\n",
       "]"
      ]
     },
     "execution_count": 43,
     "metadata": {},
     "output_type": "execute_result"
    }
   ],
   "source": [
    "X_train"
   ]
  },
  {
   "cell_type": "code",
   "execution_count": 44,
   "id": "3999e583",
   "metadata": {
    "execution": {
     "iopub.execute_input": "2025-04-13T13:22:03.713681Z",
     "iopub.status.busy": "2025-04-13T13:22:03.713333Z",
     "iopub.status.idle": "2025-04-13T13:22:04.615018Z",
     "shell.execute_reply": "2025-04-13T13:22:04.614121Z"
    },
    "papermill": {
     "duration": 0.919642,
     "end_time": "2025-04-13T13:22:04.616730",
     "exception": false,
     "start_time": "2025-04-13T13:22:03.697088",
     "status": "completed"
    },
    "tags": []
   },
   "outputs": [
    {
     "name": "stdout",
     "output_type": "stream",
     "text": [
      "<class 'polars.series.series.Series'>\n",
      "<class 'numpy.ndarray'>\n"
     ]
    }
   ],
   "source": [
    "print(type(X_train))\n",
    "print(type(y_test))\n",
    "X_train_lst = X_train.to_list()\n",
    "X_test_lst = X_test.to_list()"
   ]
  },
  {
   "cell_type": "markdown",
   "id": "0d8f1238",
   "metadata": {
    "papermill": {
     "duration": 0.015774,
     "end_time": "2025-04-13T13:22:04.648616",
     "exception": false,
     "start_time": "2025-04-13T13:22:04.632842",
     "status": "completed"
    },
    "tags": []
   },
   "source": [
    "# <div style=\"background-color: aliceblue; font-family: san-serif, arial; text-align: center; border-radius: 25px;\">Tokenize Data</div>"
   ]
  },
  {
   "cell_type": "code",
   "execution_count": 45,
   "id": "10a1dc82",
   "metadata": {
    "execution": {
     "iopub.execute_input": "2025-04-13T13:22:04.681496Z",
     "iopub.status.busy": "2025-04-13T13:22:04.681162Z",
     "iopub.status.idle": "2025-04-13T13:22:09.949456Z",
     "shell.execute_reply": "2025-04-13T13:22:09.948365Z"
    },
    "papermill": {
     "duration": 5.28651,
     "end_time": "2025-04-13T13:22:09.950991",
     "exception": false,
     "start_time": "2025-04-13T13:22:04.664481",
     "status": "completed"
    },
    "tags": []
   },
   "outputs": [
    {
     "name": "stdout",
     "output_type": "stream",
     "text": [
      "vocab size = 174972\n",
      "number of document (equivalent to X_train.shape) = 39666\n",
      "[INFO]: Begin the process of tokenizing\n",
      "[INFO]: Tokenizing done!\n",
      "5351 2 123 73 50 2 1599 580 106 3910 15 283 1368 8 19 318 131 309 368 6 4 77 485 15 9188 1454 786 4241 47 2 81 110 2610 60 70 220 23 1368 465 78 849 493 46 2322 209 4241 36 2 89 128 218 2655 2 160 370 61080 1156 15 5 11 43 2 243 29 95 10 4 17 2 10 4 1296 10370 560 443 3807 10 4 420 154 225 \n",
      "Dimension of each sequences:  81\n"
     ]
    }
   ],
   "source": [
    "from tensorflow.keras.preprocessing.text import Tokenizer\n",
    "tokenizer = Tokenizer(oov_token='<oov>')\n",
    "\n",
    "tokenizer.fit_on_texts(X_train_lst)\n",
    "print(f\"vocab size = {len(tokenizer.word_index)}\")\n",
    "print(f\"number of document (equivalent to X_train.shape) = {tokenizer.document_count}\")\n",
    "\n",
    "print(\"[INFO]: Begin the process of tokenizing\")\n",
    "tokenized_X_train = tokenizer.texts_to_sequences(X_train_lst)\n",
    "tokenized_X_test = tokenizer.texts_to_sequences(X_test_lst)\n",
    "print(\"[INFO]: Tokenizing done!\")\n",
    "\n",
    "for num in tokenized_X_train[0]:\n",
    "    print(num, end=' ')\n",
    "print()\n",
    "print(f\"Dimension of each sequences:  {len(tokenized_X_train[0])}\")"
   ]
  },
  {
   "cell_type": "code",
   "execution_count": 46,
   "id": "ea788bc6",
   "metadata": {
    "execution": {
     "iopub.execute_input": "2025-04-13T13:22:09.985242Z",
     "iopub.status.busy": "2025-04-13T13:22:09.984973Z",
     "iopub.status.idle": "2025-04-13T13:22:09.990462Z",
     "shell.execute_reply": "2025-04-13T13:22:09.989705Z"
    },
    "papermill": {
     "duration": 0.02438,
     "end_time": "2025-04-13T13:22:09.991736",
     "exception": false,
     "start_time": "2025-04-13T13:22:09.967356",
     "status": "completed"
    },
    "tags": []
   },
   "outputs": [
    {
     "data": {
      "text/plain": [
       "105"
      ]
     },
     "execution_count": 46,
     "metadata": {},
     "output_type": "execute_result"
    }
   ],
   "source": [
    "len(tokenized_X_train[3])"
   ]
  },
  {
   "cell_type": "markdown",
   "id": "945f4a40",
   "metadata": {
    "papermill": {
     "duration": 0.017096,
     "end_time": "2025-04-13T13:22:10.025896",
     "exception": false,
     "start_time": "2025-04-13T13:22:10.008800",
     "status": "completed"
    },
    "tags": []
   },
   "source": [
    "# <div style=\"background-color: aliceblue; font-family: san-serif, arial; text-align: center; border-radius: 25px;\">Padding Data</div>"
   ]
  },
  {
   "cell_type": "code",
   "execution_count": 47,
   "id": "5908cfbb",
   "metadata": {
    "execution": {
     "iopub.execute_input": "2025-04-13T13:22:10.062016Z",
     "iopub.status.busy": "2025-04-13T13:22:10.061718Z",
     "iopub.status.idle": "2025-04-13T13:22:10.671592Z",
     "shell.execute_reply": "2025-04-13T13:22:10.670565Z"
    },
    "papermill": {
     "duration": 0.629489,
     "end_time": "2025-04-13T13:22:10.673043",
     "exception": false,
     "start_time": "2025-04-13T13:22:10.043554",
     "status": "completed"
    },
    "tags": []
   },
   "outputs": [
    {
     "name": "stdout",
     "output_type": "stream",
     "text": [
      "[INFO]: Maximum sequence length: 1446\n",
      "length of first entry of preprocessed_X_train: = 1446\n",
      "preprocessed_X_train[0]: \n",
      " [5351    2  123 ...    0    0    0]\n"
     ]
    }
   ],
   "source": [
    "max_length = 0\n",
    "for sequence in tokenized_X_train:\n",
    "    max_length = len(sequence) if max_length < len(sequence) else max_length\n",
    "print(f\"[INFO]: Maximum sequence length: {max_length}\")\n",
    "\n",
    "\n",
    "from tensorflow.keras.preprocessing.sequence import pad_sequences\n",
    "preprocessed_X_train = pad_sequences(tokenized_X_train, padding='post')\n",
    "preprocessed_X_test = pad_sequences(tokenized_X_test, padding='post')\n",
    "\n",
    "print(f\"length of first entry of preprocessed_X_train: = {len(preprocessed_X_train[0])}\")\n",
    "print(f\"preprocessed_X_train[0]: \\n {preprocessed_X_train[0]}\")"
   ]
  },
  {
   "cell_type": "markdown",
   "id": "ba0e88d1",
   "metadata": {
    "papermill": {
     "duration": 0.018111,
     "end_time": "2025-04-13T13:22:10.708243",
     "exception": false,
     "start_time": "2025-04-13T13:22:10.690132",
     "status": "completed"
    },
    "tags": []
   },
   "source": [
    "# <div style=\"background-color: aliceblue; font-family: san-serif, arial; text-align: center; border-radius: 25px;\">Saving the data for later use</div>"
   ]
  },
  {
   "cell_type": "code",
   "execution_count": 48,
   "id": "4f095bb4",
   "metadata": {
    "execution": {
     "iopub.execute_input": "2025-04-13T13:22:10.743754Z",
     "iopub.status.busy": "2025-04-13T13:22:10.743027Z",
     "iopub.status.idle": "2025-04-13T13:22:11.001145Z",
     "shell.execute_reply": "2025-04-13T13:22:11.000268Z"
    },
    "papermill": {
     "duration": 0.277751,
     "end_time": "2025-04-13T13:22:11.002911",
     "exception": false,
     "start_time": "2025-04-13T13:22:10.725160",
     "status": "completed"
    },
    "tags": []
   },
   "outputs": [],
   "source": [
    "import numpy as np\n",
    "# X strain shape = (39666, 1446)\n",
    "# X test shape = (9916, 1446)\n",
    "# 418 samples are duplicates\n",
    "np.save('X_train.npy', preprocessed_X_train)\n",
    "np.save('X_test.npy', preprocessed_X_test)\n",
    "np.save('y_train.npy', y_train)\n",
    "np.save('y_test.npy', y_test)"
   ]
  },
  {
   "cell_type": "code",
   "execution_count": 49,
   "id": "51f6129f",
   "metadata": {
    "execution": {
     "iopub.execute_input": "2025-04-13T13:22:11.039182Z",
     "iopub.status.busy": "2025-04-13T13:22:11.038910Z",
     "iopub.status.idle": "2025-04-13T13:22:11.177285Z",
     "shell.execute_reply": "2025-04-13T13:22:11.176345Z"
    },
    "papermill": {
     "duration": 0.157959,
     "end_time": "2025-04-13T13:22:11.178818",
     "exception": false,
     "start_time": "2025-04-13T13:22:11.020859",
     "status": "completed"
    },
    "tags": []
   },
   "outputs": [
    {
     "data": {
      "text/plain": [
       "(39666, 1446)"
      ]
     },
     "execution_count": 49,
     "metadata": {},
     "output_type": "execute_result"
    }
   ],
   "source": [
    "xte =  np.load('/kaggle/working/X_test.npy', allow_pickle=True)\n",
    "xtr = np.load('/kaggle/working/X_train.npy', allow_pickle=True)\n",
    "assert preprocessed_X_train.shape == xtr.shape\n",
    "preprocessed_X_train.shape"
   ]
  },
  {
   "cell_type": "markdown",
   "id": "d0e8f5eb",
   "metadata": {
    "papermill": {
     "duration": 0.016633,
     "end_time": "2025-04-13T13:22:11.212618",
     "exception": false,
     "start_time": "2025-04-13T13:22:11.195985",
     "status": "completed"
    },
    "tags": []
   },
   "source": [
    "# <div style=\"background-color: aliceblue; font-family: san-serif, arial; text-align: center; border-radius: 25px;\">Modelling</div>"
   ]
  },
  {
   "cell_type": "markdown",
   "id": "61768814",
   "metadata": {
    "papermill": {
     "duration": 0.016439,
     "end_time": "2025-04-13T13:22:11.245778",
     "exception": false,
     "start_time": "2025-04-13T13:22:11.229339",
     "status": "completed"
    },
    "tags": []
   },
   "source": [
    "# <div style=\"background-color: aliceblue; font-family: san-serif, arial; text-align: center; border-radius: 25px;\">Bidirectional RNN</div>"
   ]
  },
  {
   "cell_type": "code",
   "execution_count": 50,
   "id": "046e166e",
   "metadata": {
    "execution": {
     "iopub.execute_input": "2025-04-13T13:22:11.281667Z",
     "iopub.status.busy": "2025-04-13T13:22:11.280866Z",
     "iopub.status.idle": "2025-04-13T13:22:26.823094Z",
     "shell.execute_reply": "2025-04-13T13:22:26.821752Z"
    },
    "papermill": {
     "duration": 15.561924,
     "end_time": "2025-04-13T13:22:26.824895",
     "exception": false,
     "start_time": "2025-04-13T13:22:11.262971",
     "status": "completed"
    },
    "tags": []
   },
   "outputs": [
    {
     "name": "stdout",
     "output_type": "stream",
     "text": [
      "\u001b[2K   \u001b[90m━━━━━━━━━━━━━━━━━━━━━━━━━━━━━━━━━━━━━━━━\u001b[0m \u001b[32m28.2/28.2 MB\u001b[0m \u001b[31m54.1 MB/s\u001b[0m eta \u001b[36m0:00:00\u001b[0m\r\n",
      "\u001b[2K   \u001b[90m━━━━━━━━━━━━━━━━━━━━━━━━━━━━━━━━━━━━━━━━\u001b[0m \u001b[32m6.1/6.1 MB\u001b[0m \u001b[31m74.3 MB/s\u001b[0m eta \u001b[36m0:00:00\u001b[0m\r\n",
      "\u001b[2K   \u001b[90m━━━━━━━━━━━━━━━━━━━━━━━━━━━━━━━━━━━━━━━━\u001b[0m \u001b[32m114.9/114.9 kB\u001b[0m \u001b[31m5.7 MB/s\u001b[0m eta \u001b[36m0:00:00\u001b[0m\r\n",
      "\u001b[2K   \u001b[90m━━━━━━━━━━━━━━━━━━━━━━━━━━━━━━━━━━━━━━━━\u001b[0m \u001b[32m85.0/85.0 kB\u001b[0m \u001b[31m4.2 MB/s\u001b[0m eta \u001b[36m0:00:00\u001b[0m\r\n",
      "\u001b[2K   \u001b[90m━━━━━━━━━━━━━━━━━━━━━━━━━━━━━━━━━━━━━━━━\u001b[0m \u001b[32m684.0/684.0 kB\u001b[0m \u001b[31m30.6 MB/s\u001b[0m eta \u001b[36m0:00:00\u001b[0m\r\n",
      "\u001b[2K   \u001b[90m━━━━━━━━━━━━━━━━━━━━━━━━━━━━━━━━━━━━━━━━\u001b[0m \u001b[32m95.2/95.2 kB\u001b[0m \u001b[31m5.1 MB/s\u001b[0m eta \u001b[36m0:00:00\u001b[0m\r\n",
      "\u001b[2K   \u001b[90m━━━━━━━━━━━━━━━━━━━━━━━━━━━━━━━━━━━━━━━━\u001b[0m \u001b[32m203.4/203.4 kB\u001b[0m \u001b[31m11.5 MB/s\u001b[0m eta \u001b[36m0:00:00\u001b[0m\r\n",
      "\u001b[2K   \u001b[90m━━━━━━━━━━━━━━━━━━━━━━━━━━━━━━━━━━━━━━━━\u001b[0m \u001b[32m62.3/62.3 kB\u001b[0m \u001b[31m3.2 MB/s\u001b[0m eta \u001b[36m0:00:00\u001b[0m\r\n",
      "\u001b[2K   \u001b[90m━━━━━━━━━━━━━━━━━━━━━━━━━━━━━━━━━━━━━━━━\u001b[0m \u001b[32m72.0/72.0 kB\u001b[0m \u001b[31m3.9 MB/s\u001b[0m eta \u001b[36m0:00:00\u001b[0m\r\n",
      "\u001b[?25h"
     ]
    }
   ],
   "source": [
    "!pip install -q mlflow\n",
    "!pip install -q pyngrok"
   ]
  },
  {
   "cell_type": "code",
   "execution_count": 51,
   "id": "b21e0535",
   "metadata": {
    "execution": {
     "iopub.execute_input": "2025-04-13T13:22:26.863261Z",
     "iopub.status.busy": "2025-04-13T13:22:26.862827Z",
     "iopub.status.idle": "2025-04-13T13:22:26.875133Z",
     "shell.execute_reply": "2025-04-13T13:22:26.874265Z"
    },
    "papermill": {
     "duration": 0.032916,
     "end_time": "2025-04-13T13:22:26.876460",
     "exception": false,
     "start_time": "2025-04-13T13:22:26.843544",
     "status": "completed"
    },
    "tags": []
   },
   "outputs": [],
   "source": [
    "RNN_model = Sequential()"
   ]
  }
 ],
 "metadata": {
  "kaggle": {
   "accelerator": "none",
   "dataSources": [
    {
     "datasetId": 134715,
     "sourceId": 320111,
     "sourceType": "datasetVersion"
    }
   ],
   "dockerImageVersionId": 31012,
   "isGpuEnabled": false,
   "isInternetEnabled": true,
   "language": "python",
   "sourceType": "notebook"
  },
  "kernelspec": {
   "display_name": "Python 3",
   "language": "python",
   "name": "python3"
  },
  "language_info": {
   "codemirror_mode": {
    "name": "ipython",
    "version": 3
   },
   "file_extension": ".py",
   "mimetype": "text/x-python",
   "name": "python",
   "nbconvert_exporter": "python",
   "pygments_lexer": "ipython3",
   "version": "3.11.11"
  },
  "papermill": {
   "default_parameters": {},
   "duration": 1893.659244,
   "end_time": "2025-04-13T13:22:29.615673",
   "environment_variables": {},
   "exception": null,
   "input_path": "__notebook__.ipynb",
   "output_path": "__notebook__.ipynb",
   "parameters": {},
   "start_time": "2025-04-13T12:50:55.956429",
   "version": "2.6.0"
  }
 },
 "nbformat": 4,
 "nbformat_minor": 5
}
